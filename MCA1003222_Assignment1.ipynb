{
 "cells": [
  {
   "cell_type": "markdown",
   "id": "4595b179",
   "metadata": {},
   "source": [
    "# Dewesh Chopra\n",
    "# MCA/10032/22\n",
    "# ML Lab\n",
    "# Assignment no. 1"
   ]
  },
  {
   "cell_type": "markdown",
   "id": "1478de59",
   "metadata": {},
   "source": [
    "# Perform following operations using Python:\n",
    "\n",
    "a) Updating an existing String\n",
    "\n",
    "b) Using built-in String Methods to Manipulate Strings e.g len(),find(),decode(),isalpha(), isdigit() ,count() etc."
   ]
  },
  {
   "cell_type": "code",
   "execution_count": 1,
   "id": "554981d4",
   "metadata": {},
   "outputs": [],
   "source": [
    "# Question 1"
   ]
  },
  {
   "cell_type": "code",
   "execution_count": 2,
   "id": "07f6d76c",
   "metadata": {},
   "outputs": [],
   "source": [
    "str = \"Hello, world.\""
   ]
  },
  {
   "cell_type": "code",
   "execution_count": 3,
   "id": "0253409c",
   "metadata": {},
   "outputs": [],
   "source": [
    "# update\n",
    "str = \"Hello World!\""
   ]
  },
  {
   "cell_type": "code",
   "execution_count": 4,
   "id": "7da7eabf",
   "metadata": {},
   "outputs": [
    {
     "data": {
      "text/plain": [
       "12"
      ]
     },
     "execution_count": 4,
     "metadata": {},
     "output_type": "execute_result"
    }
   ],
   "source": [
    "# methods\n",
    "len(str)"
   ]
  },
  {
   "cell_type": "code",
   "execution_count": 5,
   "id": "3a87e04a",
   "metadata": {},
   "outputs": [
    {
     "data": {
      "text/plain": [
       "1"
      ]
     },
     "execution_count": 5,
     "metadata": {},
     "output_type": "execute_result"
    }
   ],
   "source": [
    "str.find(\"e\")"
   ]
  },
  {
   "cell_type": "code",
   "execution_count": 6,
   "id": "ebc027ec",
   "metadata": {},
   "outputs": [
    {
     "data": {
      "text/plain": [
       "False"
      ]
     },
     "execution_count": 6,
     "metadata": {},
     "output_type": "execute_result"
    }
   ],
   "source": [
    "str.isalpha()"
   ]
  },
  {
   "cell_type": "code",
   "execution_count": 7,
   "id": "50d6ee97",
   "metadata": {},
   "outputs": [
    {
     "data": {
      "text/plain": [
       "False"
      ]
     },
     "execution_count": 7,
     "metadata": {},
     "output_type": "execute_result"
    }
   ],
   "source": [
    "str.isdigit()"
   ]
  },
  {
   "cell_type": "code",
   "execution_count": 8,
   "id": "3bc8eab7",
   "metadata": {},
   "outputs": [
    {
     "data": {
      "text/plain": [
       "3"
      ]
     },
     "execution_count": 8,
     "metadata": {},
     "output_type": "execute_result"
    }
   ],
   "source": [
    "str.count(\"l\")"
   ]
  },
  {
   "cell_type": "code",
   "execution_count": 9,
   "id": "30d62f12",
   "metadata": {},
   "outputs": [
    {
     "data": {
      "text/plain": [
       "'Hello World!'"
      ]
     },
     "execution_count": 9,
     "metadata": {},
     "output_type": "execute_result"
    }
   ],
   "source": [
    "strenc = str.encode('utf-8')\n",
    "strenc.decode(encoding='utf-8',errors='strict')"
   ]
  },
  {
   "cell_type": "markdown",
   "id": "efa5317c",
   "metadata": {},
   "source": [
    "# Perform the following on ‘Lists’ using Python\n",
    "\n",
    "a) Updating, Slicing, Indexing\n",
    "\n",
    "b) Using following built-in Methods to manipulate lists: append(), extend(), insert(), pop(), remove(),reverse(), sort()."
   ]
  },
  {
   "cell_type": "code",
   "execution_count": 10,
   "id": "bd9f63f7",
   "metadata": {},
   "outputs": [],
   "source": [
    "# Question 2"
   ]
  },
  {
   "cell_type": "code",
   "execution_count": 11,
   "id": "5aac34cf",
   "metadata": {},
   "outputs": [],
   "source": [
    "lst = [10, 20, 30, 40, 50]"
   ]
  },
  {
   "cell_type": "code",
   "execution_count": 12,
   "id": "e1fb3b33",
   "metadata": {},
   "outputs": [],
   "source": [
    "# update\n",
    "lst = [\"Cat\", \"Dog\", \"Bear\", \"Snake\", \"Horse\", \"Tiger\"]"
   ]
  },
  {
   "cell_type": "code",
   "execution_count": 13,
   "id": "d69b7f45",
   "metadata": {},
   "outputs": [],
   "source": [
    "# slicing\n",
    "lst2 = lst[1:4]"
   ]
  },
  {
   "cell_type": "code",
   "execution_count": 14,
   "id": "2c5f8949",
   "metadata": {},
   "outputs": [
    {
     "data": {
      "text/plain": [
       "['Dog', 'Bear', 'Snake']"
      ]
     },
     "execution_count": 14,
     "metadata": {},
     "output_type": "execute_result"
    }
   ],
   "source": [
    "lst2"
   ]
  },
  {
   "cell_type": "code",
   "execution_count": 15,
   "id": "631d3d2e",
   "metadata": {},
   "outputs": [
    {
     "data": {
      "text/plain": [
       "'Snake'"
      ]
     },
     "execution_count": 15,
     "metadata": {},
     "output_type": "execute_result"
    }
   ],
   "source": [
    "# indexing\n",
    "lst[3]"
   ]
  },
  {
   "cell_type": "code",
   "execution_count": 16,
   "id": "e291a3a3",
   "metadata": {},
   "outputs": [
    {
     "data": {
      "text/plain": [
       "['Cat', 'Dog', 'Bear', 'Snake', 'Horse', 'Tiger', 'Wolf']"
      ]
     },
     "execution_count": 16,
     "metadata": {},
     "output_type": "execute_result"
    }
   ],
   "source": [
    "# append\n",
    "lst.append(\"Wolf\")\n",
    "lst"
   ]
  },
  {
   "cell_type": "code",
   "execution_count": 17,
   "id": "47838935",
   "metadata": {},
   "outputs": [
    {
     "data": {
      "text/plain": [
       "['Cat', 'Dog', 'Bear', 'Snake', 'Horse', 'Tiger', 'Wolf', 'Eagle', 'Koala']"
      ]
     },
     "execution_count": 17,
     "metadata": {},
     "output_type": "execute_result"
    }
   ],
   "source": [
    "# extend\n",
    "lst3 = [\"Eagle\", \"Koala\"]\n",
    "lst.extend(lst3)\n",
    "lst"
   ]
  },
  {
   "cell_type": "code",
   "execution_count": 18,
   "id": "755a41ab",
   "metadata": {},
   "outputs": [
    {
     "data": {
      "text/plain": [
       "['Cat',\n",
       " 'Dog',\n",
       " 'Panda',\n",
       " 'Bear',\n",
       " 'Snake',\n",
       " 'Horse',\n",
       " 'Tiger',\n",
       " 'Wolf',\n",
       " 'Eagle',\n",
       " 'Koala']"
      ]
     },
     "execution_count": 18,
     "metadata": {},
     "output_type": "execute_result"
    }
   ],
   "source": [
    "# insert\n",
    "lst.insert(2, \"Panda\")\n",
    "lst"
   ]
  },
  {
   "cell_type": "code",
   "execution_count": 19,
   "id": "0d9bf677",
   "metadata": {},
   "outputs": [
    {
     "data": {
      "text/plain": [
       "['Cat', 'Dog', 'Panda', 'Bear', 'Snake', 'Horse', 'Tiger', 'Wolf', 'Eagle']"
      ]
     },
     "execution_count": 19,
     "metadata": {},
     "output_type": "execute_result"
    }
   ],
   "source": [
    "# pop and remove\n",
    "lst.pop()\n",
    "lst"
   ]
  },
  {
   "cell_type": "code",
   "execution_count": 20,
   "id": "720987fe",
   "metadata": {},
   "outputs": [
    {
     "data": {
      "text/plain": [
       "['Cat', 'Dog', 'Bear', 'Snake', 'Horse', 'Tiger', 'Wolf', 'Eagle']"
      ]
     },
     "execution_count": 20,
     "metadata": {},
     "output_type": "execute_result"
    }
   ],
   "source": [
    "lst.remove(\"Panda\")\n",
    "lst"
   ]
  },
  {
   "cell_type": "code",
   "execution_count": 21,
   "id": "27ad6c39",
   "metadata": {},
   "outputs": [],
   "source": [
    "# reordering\n",
    "lst.reverse()"
   ]
  },
  {
   "cell_type": "code",
   "execution_count": 22,
   "id": "b65e9910",
   "metadata": {},
   "outputs": [
    {
     "data": {
      "text/plain": [
       "['Eagle', 'Wolf', 'Tiger', 'Horse', 'Snake', 'Bear', 'Dog', 'Cat']"
      ]
     },
     "execution_count": 22,
     "metadata": {},
     "output_type": "execute_result"
    }
   ],
   "source": [
    "lst"
   ]
  },
  {
   "cell_type": "code",
   "execution_count": 23,
   "id": "b3523d72",
   "metadata": {},
   "outputs": [
    {
     "data": {
      "text/plain": [
       "['Bear', 'Cat', 'Dog', 'Eagle', 'Horse', 'Snake', 'Tiger', 'Wolf']"
      ]
     },
     "execution_count": 23,
     "metadata": {},
     "output_type": "execute_result"
    }
   ],
   "source": [
    "lst.sort()\n",
    "lst"
   ]
  },
  {
   "cell_type": "markdown",
   "id": "523a6cd5",
   "metadata": {},
   "source": [
    "# Perform the following on ‘Tuples’ using Python\n",
    "\n",
    "a) Updating, Indexing, deleting, slicing.\n",
    "\n",
    "b) Using following built-in Methods to manipulate Tuples: max(), min(), len(), tuple()."
   ]
  },
  {
   "cell_type": "code",
   "execution_count": 24,
   "id": "735b763e",
   "metadata": {},
   "outputs": [],
   "source": [
    "# Question 3"
   ]
  },
  {
   "cell_type": "code",
   "execution_count": 25,
   "id": "aa322a36",
   "metadata": {},
   "outputs": [
    {
     "data": {
      "text/plain": [
       "(2, 4, 6, 8, 10)"
      ]
     },
     "execution_count": 25,
     "metadata": {},
     "output_type": "execute_result"
    }
   ],
   "source": [
    "# update\n",
    "tup = (2, 4, 6, 8, 10)\n",
    "tup"
   ]
  },
  {
   "cell_type": "code",
   "execution_count": 26,
   "id": "c7d5dfdd",
   "metadata": {},
   "outputs": [
    {
     "data": {
      "text/plain": [
       "('Eagle', 'Crow', 'Owl', 'Nightingale')"
      ]
     },
     "execution_count": 26,
     "metadata": {},
     "output_type": "execute_result"
    }
   ],
   "source": [
    "tup = (\"Eagle\", \"Crow\", \"Owl\", \"Nightingale\")\n",
    "tup"
   ]
  },
  {
   "cell_type": "code",
   "execution_count": 27,
   "id": "b31e6f50",
   "metadata": {},
   "outputs": [
    {
     "data": {
      "text/plain": [
       "'Owl'"
      ]
     },
     "execution_count": 27,
     "metadata": {},
     "output_type": "execute_result"
    }
   ],
   "source": [
    "# indexing, deleting and slicing\n",
    "tup[2]"
   ]
  },
  {
   "cell_type": "code",
   "execution_count": 28,
   "id": "d1262d4e",
   "metadata": {},
   "outputs": [
    {
     "data": {
      "text/plain": [
       "('Crow', 'Owl')"
      ]
     },
     "execution_count": 28,
     "metadata": {},
     "output_type": "execute_result"
    }
   ],
   "source": [
    "tup2 = tup[1:3]\n",
    "tup2"
   ]
  },
  {
   "cell_type": "code",
   "execution_count": 29,
   "id": "086bbd97",
   "metadata": {},
   "outputs": [
    {
     "data": {
      "text/plain": [
       "'Owl'"
      ]
     },
     "execution_count": 29,
     "metadata": {},
     "output_type": "execute_result"
    }
   ],
   "source": [
    "# built-in methods\n",
    "max(tup)"
   ]
  },
  {
   "cell_type": "code",
   "execution_count": 30,
   "id": "8ab11d30",
   "metadata": {},
   "outputs": [
    {
     "data": {
      "text/plain": [
       "'Crow'"
      ]
     },
     "execution_count": 30,
     "metadata": {},
     "output_type": "execute_result"
    }
   ],
   "source": [
    "min(tup)"
   ]
  },
  {
   "cell_type": "code",
   "execution_count": 31,
   "id": "6188ee53",
   "metadata": {},
   "outputs": [
    {
     "data": {
      "text/plain": [
       "4"
      ]
     },
     "execution_count": 31,
     "metadata": {},
     "output_type": "execute_result"
    }
   ],
   "source": [
    "len(tup)"
   ]
  },
  {
   "cell_type": "code",
   "execution_count": 32,
   "id": "f90d9170",
   "metadata": {},
   "outputs": [
    {
     "data": {
      "text/plain": [
       "[1, 2, 3]"
      ]
     },
     "execution_count": 32,
     "metadata": {},
     "output_type": "execute_result"
    }
   ],
   "source": [
    "x = [1, 2, 3]\n",
    "x"
   ]
  },
  {
   "cell_type": "code",
   "execution_count": 33,
   "id": "48ac9be9",
   "metadata": {},
   "outputs": [],
   "source": [
    "x = tuple(x)"
   ]
  },
  {
   "cell_type": "code",
   "execution_count": 34,
   "id": "e4688e57",
   "metadata": {},
   "outputs": [
    {
     "data": {
      "text/plain": [
       "tuple"
      ]
     },
     "execution_count": 34,
     "metadata": {},
     "output_type": "execute_result"
    }
   ],
   "source": [
    "type(x)"
   ]
  },
  {
   "cell_type": "markdown",
   "id": "12113f3b",
   "metadata": {},
   "source": [
    "# Perform the following on ‘Dictionary’ using Python\n",
    "\n",
    "a) Updating, deleting\n",
    "\n",
    "b) Using following built-in Methods to manipulate Dictionary: update(), values(),get(), clear(), copy(), type(), len()."
   ]
  },
  {
   "cell_type": "code",
   "execution_count": 35,
   "id": "46316dde",
   "metadata": {},
   "outputs": [],
   "source": [
    "# Question 4"
   ]
  },
  {
   "cell_type": "code",
   "execution_count": 36,
   "id": "c83ed44b",
   "metadata": {},
   "outputs": [],
   "source": [
    "dic = {\"india\": \"new delhi\", \n",
    "       \"pakistan\": \"islamabad\", \n",
    "       \"nepal\": \"new katmandu\", \n",
    "       \"bangladesh\": \"dhaka\", \n",
    "       \"sri lanka\": \"Sri jayawardhanapura\"}"
   ]
  },
  {
   "cell_type": "code",
   "execution_count": 37,
   "id": "e27f4b30",
   "metadata": {},
   "outputs": [
    {
     "data": {
      "text/plain": [
       "{'india': 'new delhi',\n",
       " 'pakistan': 'islamabad',\n",
       " 'nepal': 'new katmandu',\n",
       " 'bangladesh': 'dhaka',\n",
       " 'sri lanka': 'Sri jayawardhanapura'}"
      ]
     },
     "execution_count": 37,
     "metadata": {},
     "output_type": "execute_result"
    }
   ],
   "source": [
    "dic"
   ]
  },
  {
   "cell_type": "code",
   "execution_count": 38,
   "id": "2efa9100",
   "metadata": {},
   "outputs": [
    {
     "data": {
      "text/plain": [
       "{'india': 'new delhi',\n",
       " 'pakistan': 'islamabad',\n",
       " 'nepal': 'katmandu',\n",
       " 'bangladesh': 'dhaka',\n",
       " 'sri lanka': 'Sri jayawardhanapura'}"
      ]
     },
     "execution_count": 38,
     "metadata": {},
     "output_type": "execute_result"
    }
   ],
   "source": [
    "# update\n",
    "dic.update({\"nepal\": \"katmandu\"})\n",
    "dic"
   ]
  },
  {
   "cell_type": "code",
   "execution_count": 39,
   "id": "55b51cde",
   "metadata": {},
   "outputs": [
    {
     "data": {
      "text/plain": [
       "{'india': 'new delhi',\n",
       " 'nepal': 'katmandu',\n",
       " 'bangladesh': 'dhaka',\n",
       " 'sri lanka': 'Sri jayawardhanapura'}"
      ]
     },
     "execution_count": 39,
     "metadata": {},
     "output_type": "execute_result"
    }
   ],
   "source": [
    "# deleting\n",
    "del dic[\"pakistan\"]\n",
    "dic"
   ]
  },
  {
   "cell_type": "code",
   "execution_count": 40,
   "id": "571d7d64",
   "metadata": {},
   "outputs": [
    {
     "data": {
      "text/plain": [
       "{'india': 'new delhi',\n",
       " 'nepal': 'katmandu',\n",
       " 'bangladesh': 'dhaka',\n",
       " 'sri lanka': 'sri jayawardhanapura kotte'}"
      ]
     },
     "execution_count": 40,
     "metadata": {},
     "output_type": "execute_result"
    }
   ],
   "source": [
    "# built-in methods\n",
    "dic.update({\"sri lanka\": \"sri jayawardhanapura kotte\"})\n",
    "dic"
   ]
  },
  {
   "cell_type": "code",
   "execution_count": 41,
   "id": "7070c55c",
   "metadata": {},
   "outputs": [
    {
     "data": {
      "text/plain": [
       "dict_values(['new delhi', 'katmandu', 'dhaka', 'sri jayawardhanapura kotte'])"
      ]
     },
     "execution_count": 41,
     "metadata": {},
     "output_type": "execute_result"
    }
   ],
   "source": [
    "dic.values()"
   ]
  },
  {
   "cell_type": "code",
   "execution_count": 42,
   "id": "c2d28326",
   "metadata": {},
   "outputs": [
    {
     "data": {
      "text/plain": [
       "dict_keys(['india', 'nepal', 'bangladesh', 'sri lanka'])"
      ]
     },
     "execution_count": 42,
     "metadata": {},
     "output_type": "execute_result"
    }
   ],
   "source": [
    "dic.keys()"
   ]
  },
  {
   "cell_type": "code",
   "execution_count": 43,
   "id": "14ce0e25",
   "metadata": {},
   "outputs": [
    {
     "data": {
      "text/plain": [
       "'new delhi'"
      ]
     },
     "execution_count": 43,
     "metadata": {},
     "output_type": "execute_result"
    }
   ],
   "source": [
    "dic.get(\"india\")"
   ]
  },
  {
   "cell_type": "code",
   "execution_count": 44,
   "id": "a6e69aa7",
   "metadata": {},
   "outputs": [
    {
     "data": {
      "text/plain": [
       "{'x': 'y'}"
      ]
     },
     "execution_count": 44,
     "metadata": {},
     "output_type": "execute_result"
    }
   ],
   "source": [
    "# clearing\n",
    "dic2 = {\"x\": \"y\"}\n",
    "dic2"
   ]
  },
  {
   "cell_type": "code",
   "execution_count": 45,
   "id": "82b160d7",
   "metadata": {},
   "outputs": [],
   "source": [
    "dic2.clear()"
   ]
  },
  {
   "cell_type": "code",
   "execution_count": 46,
   "id": "086bcdf4",
   "metadata": {},
   "outputs": [
    {
     "data": {
      "text/plain": [
       "{}"
      ]
     },
     "execution_count": 46,
     "metadata": {},
     "output_type": "execute_result"
    }
   ],
   "source": [
    "dic2"
   ]
  },
  {
   "cell_type": "code",
   "execution_count": 47,
   "id": "f7269c65",
   "metadata": {},
   "outputs": [
    {
     "data": {
      "text/plain": [
       "{'india': 'new delhi',\n",
       " 'nepal': 'katmandu',\n",
       " 'bangladesh': 'dhaka',\n",
       " 'sri lanka': 'sri jayawardhanapura kotte'}"
      ]
     },
     "execution_count": 47,
     "metadata": {},
     "output_type": "execute_result"
    }
   ],
   "source": [
    "dic2 = dic.copy()\n",
    "dic2"
   ]
  },
  {
   "cell_type": "code",
   "execution_count": 48,
   "id": "b194c586",
   "metadata": {},
   "outputs": [
    {
     "data": {
      "text/plain": [
       "dict"
      ]
     },
     "execution_count": 48,
     "metadata": {},
     "output_type": "execute_result"
    }
   ],
   "source": [
    "type(dic)"
   ]
  },
  {
   "cell_type": "code",
   "execution_count": 49,
   "id": "31c8f620",
   "metadata": {},
   "outputs": [
    {
     "data": {
      "text/plain": [
       "4"
      ]
     },
     "execution_count": 49,
     "metadata": {},
     "output_type": "execute_result"
    }
   ],
   "source": [
    "len(dic)"
   ]
  },
  {
   "cell_type": "markdown",
   "id": "c1d3119b",
   "metadata": {},
   "source": [
    "# Create Separate Sets for Indian Cricket Players playing in T20, ODI and Test Match for current West Indies tour. Also perform the union(), intersection(), difference() operations on the above sets."
   ]
  },
  {
   "cell_type": "code",
   "execution_count": 50,
   "id": "f12cd98b",
   "metadata": {},
   "outputs": [],
   "source": [
    "# Question 5"
   ]
  },
  {
   "cell_type": "code",
   "execution_count": 51,
   "id": "76bebee8",
   "metadata": {},
   "outputs": [],
   "source": [
    "# Create Separate Sets for Indian Cricket Players playing in T20, ODI and Test Match for current West Indies tour. \n",
    "# Also perform the union(), intersection(), difference() operations on the above sets.\n",
    "\n",
    "t20 = (\"Sharma\", \"Kohli\", \"Rahane\", \"Dhawan\", \"Chahal\", \"Bumrah\", \"Ashwin\", \"Pandya\", \"Jadeja\", \"Rahul\")\n",
    "odi = (\"Sharma\", \"Kohli\", \"Rahane\", \"Dhawan\", \"Pant\", \"Shami\", \"Ashwin\", \"Pandya\", \"Jadeja\", \"Iyer\")\n",
    "test = (\"Sharma\", \"Kohli\", \"Nehra\", \"Dhawan\", \"Dhoni\", \"Bumrah\", \"Ashwin\", \"Pandya\", \"Jadeja\", \"Rahul\")\n",
    "\n",
    "t20 = set(t20)\n",
    "odi = set(odi)\n",
    "test = set(test)"
   ]
  },
  {
   "cell_type": "code",
   "execution_count": 52,
   "id": "e75e9a3f",
   "metadata": {},
   "outputs": [
    {
     "data": {
      "text/plain": [
       "{'Ashwin',\n",
       " 'Bumrah',\n",
       " 'Chahal',\n",
       " 'Dhawan',\n",
       " 'Iyer',\n",
       " 'Jadeja',\n",
       " 'Kohli',\n",
       " 'Pandya',\n",
       " 'Pant',\n",
       " 'Rahane',\n",
       " 'Rahul',\n",
       " 'Shami',\n",
       " 'Sharma'}"
      ]
     },
     "execution_count": 52,
     "metadata": {},
     "output_type": "execute_result"
    }
   ],
   "source": [
    "set_union = t20 | odi\n",
    "set_union"
   ]
  },
  {
   "cell_type": "code",
   "execution_count": 53,
   "id": "c314066e",
   "metadata": {},
   "outputs": [
    {
     "data": {
      "text/plain": [
       "{'Ashwin', 'Dhawan', 'Jadeja', 'Kohli', 'Pandya', 'Rahane', 'Sharma'}"
      ]
     },
     "execution_count": 53,
     "metadata": {},
     "output_type": "execute_result"
    }
   ],
   "source": [
    "set_int = t20 & odi\n",
    "set_int"
   ]
  },
  {
   "cell_type": "code",
   "execution_count": 54,
   "id": "63010d00",
   "metadata": {},
   "outputs": [
    {
     "data": {
      "text/plain": [
       "{'Bumrah', 'Chahal', 'Rahul'}"
      ]
     },
     "execution_count": 54,
     "metadata": {},
     "output_type": "execute_result"
    }
   ],
   "source": [
    "set_diff = t20 - odi\n",
    "set_diff"
   ]
  },
  {
   "cell_type": "code",
   "execution_count": 55,
   "id": "5cde1ae6",
   "metadata": {},
   "outputs": [
    {
     "data": {
      "text/plain": [
       "{'Bumrah', 'Chahal', 'Iyer', 'Pant', 'Rahul', 'Shami'}"
      ]
     },
     "execution_count": 55,
     "metadata": {},
     "output_type": "execute_result"
    }
   ],
   "source": [
    "set_symm_diff = t20 ^ odi\n",
    "set_symm_diff"
   ]
  },
  {
   "cell_type": "markdown",
   "id": "5bb5443a",
   "metadata": {},
   "source": [
    "# Find the Largest of the 4 Strings using Conditional Statements(if-elif-else) using Python."
   ]
  },
  {
   "cell_type": "code",
   "execution_count": 56,
   "id": "f1079ca5",
   "metadata": {},
   "outputs": [],
   "source": [
    "# Question 6"
   ]
  },
  {
   "cell_type": "code",
   "execution_count": 57,
   "id": "25bc41cc",
   "metadata": {},
   "outputs": [],
   "source": [
    "s1 = \"Long\"\n",
    "s2 = \"Large\"\n",
    "s3 = \"Larger\"\n",
    "s4 = \"Largest\""
   ]
  },
  {
   "cell_type": "code",
   "execution_count": 58,
   "id": "5024c41b",
   "metadata": {},
   "outputs": [
    {
     "name": "stdout",
     "output_type": "stream",
     "text": [
      "Largest is largest\n"
     ]
    }
   ],
   "source": [
    "if len(s1) >= len(s2) and len(s1) >= len(s3) and len(s1) >= len(s3):\n",
    "    print(s1, \" is largest\")\n",
    "elif len(s2) >= len(s1) and len(s2) >= len(s3) and len(s2) >= len(s4):\n",
    "    print(s2, \" is largest\")\n",
    "elif len(s3) >= len(s1) and len(s3) >= len(s2) and len(s3) >= len(s4):\n",
    "    print(s3, \" is largest\")\n",
    "else:\n",
    "    print(s4, \"is largest\")"
   ]
  },
  {
   "cell_type": "markdown",
   "id": "d3b553a6",
   "metadata": {},
   "source": [
    "# Write a function to generate even numbers between 1 to 30. Create a list squaring these numbers and display the list as well. Create another list by filtering the squared list using ‘anonymous’ function to get those numbers which are even numbers( Hint: Use filter() method and ‘lambda’ keyword )"
   ]
  },
  {
   "cell_type": "code",
   "execution_count": 59,
   "id": "8f994beb",
   "metadata": {},
   "outputs": [],
   "source": [
    "# Question 7"
   ]
  },
  {
   "cell_type": "code",
   "execution_count": 60,
   "id": "a741ee66",
   "metadata": {},
   "outputs": [],
   "source": [
    "def even_nums(num1, num2):\n",
    "    if num1 >= num2:\n",
    "        return []\n",
    "    else:\n",
    "        i = num1\n",
    "        lst = []\n",
    "        while i <= num2:\n",
    "            if i % 2 == 0:\n",
    "                lst.append(i)\n",
    "            i = i + 1\n",
    "        return lst"
   ]
  },
  {
   "cell_type": "code",
   "execution_count": 61,
   "id": "4433a750",
   "metadata": {},
   "outputs": [
    {
     "data": {
      "text/plain": [
       "[2, 4, 6, 8, 10, 12, 14, 16, 18, 20, 22, 24, 26, 28, 30]"
      ]
     },
     "execution_count": 61,
     "metadata": {},
     "output_type": "execute_result"
    }
   ],
   "source": [
    "lst_even = even_nums(1, 30)\n",
    "lst_even"
   ]
  },
  {
   "cell_type": "code",
   "execution_count": 62,
   "id": "1bab84cc",
   "metadata": {},
   "outputs": [
    {
     "data": {
      "text/plain": [
       "array([ 2,  4,  6,  8, 10, 12, 14, 16, 18, 20, 22, 24, 26, 28, 30])"
      ]
     },
     "execution_count": 62,
     "metadata": {},
     "output_type": "execute_result"
    }
   ],
   "source": [
    "import numpy as np\n",
    "lst_even = np.array(lst_even)\n",
    "lst_even"
   ]
  },
  {
   "cell_type": "code",
   "execution_count": 63,
   "id": "eb92b68b",
   "metadata": {},
   "outputs": [],
   "source": [
    "lst_even_sq = lst_even * lst_even"
   ]
  },
  {
   "cell_type": "code",
   "execution_count": 64,
   "id": "d615fb58",
   "metadata": {},
   "outputs": [
    {
     "data": {
      "text/plain": [
       "array([  4,  16,  36,  64, 100, 144, 196, 256, 324, 400, 484, 576, 676,\n",
       "       784, 900])"
      ]
     },
     "execution_count": 64,
     "metadata": {},
     "output_type": "execute_result"
    }
   ],
   "source": [
    "lst_even_sq"
   ]
  },
  {
   "cell_type": "code",
   "execution_count": null,
   "id": "775394a7",
   "metadata": {},
   "outputs": [],
   "source": []
  }
 ],
 "metadata": {
  "kernelspec": {
   "display_name": "Python 3 (ipykernel)",
   "language": "python",
   "name": "python3"
  },
  "language_info": {
   "codemirror_mode": {
    "name": "ipython",
    "version": 3
   },
   "file_extension": ".py",
   "mimetype": "text/x-python",
   "name": "python",
   "nbconvert_exporter": "python",
   "pygments_lexer": "ipython3",
   "version": "3.9.7"
  }
 },
 "nbformat": 4,
 "nbformat_minor": 5
}
