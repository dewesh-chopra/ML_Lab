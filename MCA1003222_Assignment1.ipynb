{
 "cells": [
  {
   "cell_type": "markdown",
   "id": "daf160eb",
   "metadata": {},
   "source": [
    "# Dewesh Chopra\n",
    "# MCA/10032/22\n",
    "# ML Lab\n",
    "# Assignment no. 1"
   ]
  },
  {
   "cell_type": "markdown",
   "id": "12d3dd8a",
   "metadata": {},
   "source": [
    "# Perform following operations using Python:\n",
    "\n",
    "a) Updating an existing String\n",
    "\n",
    "b) Using built-in String Methods to Manipulate Strings e.g len(),find(),decode(),isalpha(), isdigit() ,count() etc."
   ]
  },
  {
   "cell_type": "code",
   "execution_count": 1,
   "id": "361a1ed8",
   "metadata": {},
   "outputs": [],
   "source": [
    "# Question 1"
   ]
  },
  {
   "cell_type": "code",
   "execution_count": 2,
   "id": "62132bc6",
   "metadata": {},
   "outputs": [],
   "source": [
    "str = \"Hello, world.\""
   ]
  },
  {
   "cell_type": "code",
   "execution_count": 3,
   "id": "d9f8441a",
   "metadata": {},
   "outputs": [],
   "source": [
    "# update\n",
    "str = \"Hello World!\""
   ]
  },
  {
   "cell_type": "code",
   "execution_count": 4,
   "id": "0fd0a3b0",
   "metadata": {},
   "outputs": [
    {
     "data": {
      "text/plain": [
       "12"
      ]
     },
     "execution_count": 4,
     "metadata": {},
     "output_type": "execute_result"
    }
   ],
   "source": [
    "# methods\n",
    "len(str)"
   ]
  },
  {
   "cell_type": "code",
   "execution_count": 5,
   "id": "10cf47df",
   "metadata": {},
   "outputs": [
    {
     "data": {
      "text/plain": [
       "1"
      ]
     },
     "execution_count": 5,
     "metadata": {},
     "output_type": "execute_result"
    }
   ],
   "source": [
    "str.find(\"e\")"
   ]
  },
  {
   "cell_type": "code",
   "execution_count": 6,
   "id": "29cbaff0",
   "metadata": {},
   "outputs": [
    {
     "data": {
      "text/plain": [
       "False"
      ]
     },
     "execution_count": 6,
     "metadata": {},
     "output_type": "execute_result"
    }
   ],
   "source": [
    "str.isalpha()"
   ]
  },
  {
   "cell_type": "code",
   "execution_count": 7,
   "id": "46f6eeb8",
   "metadata": {},
   "outputs": [
    {
     "data": {
      "text/plain": [
       "False"
      ]
     },
     "execution_count": 7,
     "metadata": {},
     "output_type": "execute_result"
    }
   ],
   "source": [
    "str.isdigit()"
   ]
  },
  {
   "cell_type": "code",
   "execution_count": 8,
   "id": "89c20e18",
   "metadata": {},
   "outputs": [
    {
     "data": {
      "text/plain": [
       "3"
      ]
     },
     "execution_count": 8,
     "metadata": {},
     "output_type": "execute_result"
    }
   ],
   "source": [
    "str.count(\"l\")"
   ]
  },
  {
   "cell_type": "code",
   "execution_count": 9,
   "id": "d70ed05a",
   "metadata": {},
   "outputs": [
    {
     "data": {
      "text/plain": [
       "'Hello World!'"
      ]
     },
     "execution_count": 9,
     "metadata": {},
     "output_type": "execute_result"
    }
   ],
   "source": [
    "strenc = str.encode('utf-8')\n",
    "strenc.decode(encoding='utf-8',errors='strict')"
   ]
  },
  {
   "cell_type": "markdown",
   "id": "67c8adf8",
   "metadata": {},
   "source": [
    "# Perform the following on ‘Lists’ using Python\n",
    "\n",
    "a) Updating, Slicing, Indexing\n",
    "\n",
    "b) Using following built-in Methods to manipulate lists: append(), extend(), insert(), pop(), remove(),reverse(), sort()."
   ]
  },
  {
   "cell_type": "code",
   "execution_count": 10,
   "id": "5e989abc",
   "metadata": {},
   "outputs": [],
   "source": [
    "# Question 2"
   ]
  },
  {
   "cell_type": "code",
   "execution_count": 11,
   "id": "2df4c7f1",
   "metadata": {},
   "outputs": [],
   "source": [
    "lst = [10, 20, 30, 40, 50]"
   ]
  },
  {
   "cell_type": "code",
   "execution_count": 12,
   "id": "4988a0fd",
   "metadata": {},
   "outputs": [],
   "source": [
    "# update\n",
    "lst = [\"Cat\", \"Dog\", \"Bear\", \"Snake\", \"Horse\", \"Tiger\"]"
   ]
  },
  {
   "cell_type": "code",
   "execution_count": 13,
   "id": "40f7c2df",
   "metadata": {},
   "outputs": [],
   "source": [
    "# slicing\n",
    "lst2 = lst[1:4]"
   ]
  },
  {
   "cell_type": "code",
   "execution_count": 14,
   "id": "17b37305",
   "metadata": {},
   "outputs": [
    {
     "data": {
      "text/plain": [
       "['Dog', 'Bear', 'Snake']"
      ]
     },
     "execution_count": 14,
     "metadata": {},
     "output_type": "execute_result"
    }
   ],
   "source": [
    "lst2"
   ]
  },
  {
   "cell_type": "code",
   "execution_count": 15,
   "id": "97a8f4d2",
   "metadata": {},
   "outputs": [
    {
     "data": {
      "text/plain": [
       "'Snake'"
      ]
     },
     "execution_count": 15,
     "metadata": {},
     "output_type": "execute_result"
    }
   ],
   "source": [
    "# indexing\n",
    "lst[3]"
   ]
  },
  {
   "cell_type": "code",
   "execution_count": 16,
   "id": "c0500e56",
   "metadata": {},
   "outputs": [
    {
     "data": {
      "text/plain": [
       "['Cat', 'Dog', 'Bear', 'Snake', 'Horse', 'Tiger', 'Wolf']"
      ]
     },
     "execution_count": 16,
     "metadata": {},
     "output_type": "execute_result"
    }
   ],
   "source": [
    "# append\n",
    "lst.append(\"Wolf\")\n",
    "lst"
   ]
  },
  {
   "cell_type": "code",
   "execution_count": 17,
   "id": "97d5e7cc",
   "metadata": {},
   "outputs": [
    {
     "data": {
      "text/plain": [
       "['Cat', 'Dog', 'Bear', 'Snake', 'Horse', 'Tiger', 'Wolf', 'Eagle', 'Koala']"
      ]
     },
     "execution_count": 17,
     "metadata": {},
     "output_type": "execute_result"
    }
   ],
   "source": [
    "# extend\n",
    "lst3 = [\"Eagle\", \"Koala\"]\n",
    "lst.extend(lst3)\n",
    "lst"
   ]
  },
  {
   "cell_type": "code",
   "execution_count": 18,
   "id": "8cdda8cf",
   "metadata": {},
   "outputs": [
    {
     "data": {
      "text/plain": [
       "['Cat',\n",
       " 'Dog',\n",
       " 'Panda',\n",
       " 'Bear',\n",
       " 'Snake',\n",
       " 'Horse',\n",
       " 'Tiger',\n",
       " 'Wolf',\n",
       " 'Eagle',\n",
       " 'Koala']"
      ]
     },
     "execution_count": 18,
     "metadata": {},
     "output_type": "execute_result"
    }
   ],
   "source": [
    "# insert\n",
    "lst.insert(2, \"Panda\")\n",
    "lst"
   ]
  },
  {
   "cell_type": "code",
   "execution_count": 19,
   "id": "deb6872c",
   "metadata": {},
   "outputs": [
    {
     "data": {
      "text/plain": [
       "['Cat', 'Dog', 'Panda', 'Bear', 'Snake', 'Horse', 'Tiger', 'Wolf', 'Eagle']"
      ]
     },
     "execution_count": 19,
     "metadata": {},
     "output_type": "execute_result"
    }
   ],
   "source": [
    "# pop and remove\n",
    "lst.pop()\n",
    "lst"
   ]
  },
  {
   "cell_type": "code",
   "execution_count": 20,
   "id": "3355505c",
   "metadata": {},
   "outputs": [
    {
     "data": {
      "text/plain": [
       "['Cat', 'Dog', 'Bear', 'Snake', 'Horse', 'Tiger', 'Wolf', 'Eagle']"
      ]
     },
     "execution_count": 20,
     "metadata": {},
     "output_type": "execute_result"
    }
   ],
   "source": [
    "lst.remove(\"Panda\")\n",
    "lst"
   ]
  },
  {
   "cell_type": "code",
   "execution_count": 21,
   "id": "9fab5f72",
   "metadata": {},
   "outputs": [],
   "source": [
    "# reordering\n",
    "lst.reverse()"
   ]
  },
  {
   "cell_type": "code",
   "execution_count": 22,
   "id": "61dba80e",
   "metadata": {},
   "outputs": [
    {
     "data": {
      "text/plain": [
       "['Eagle', 'Wolf', 'Tiger', 'Horse', 'Snake', 'Bear', 'Dog', 'Cat']"
      ]
     },
     "execution_count": 22,
     "metadata": {},
     "output_type": "execute_result"
    }
   ],
   "source": [
    "lst"
   ]
  },
  {
   "cell_type": "code",
   "execution_count": 23,
   "id": "1be7650c",
   "metadata": {},
   "outputs": [
    {
     "data": {
      "text/plain": [
       "['Bear', 'Cat', 'Dog', 'Eagle', 'Horse', 'Snake', 'Tiger', 'Wolf']"
      ]
     },
     "execution_count": 23,
     "metadata": {},
     "output_type": "execute_result"
    }
   ],
   "source": [
    "lst.sort()\n",
    "lst"
   ]
  },
  {
   "cell_type": "markdown",
   "id": "687986fb",
   "metadata": {},
   "source": [
    "# Perform the following on ‘Tuples’ using Python\n",
    "\n",
    "a) Updating, Indexing, deleting, slicing.\n",
    "\n",
    "b) Using following built-in Methods to manipulate Tuples: max(), min(), len(), tuple()."
   ]
  },
  {
   "cell_type": "code",
   "execution_count": 24,
   "id": "fb7bd1c5",
   "metadata": {},
   "outputs": [],
   "source": [
    "# Question 3"
   ]
  },
  {
   "cell_type": "code",
   "execution_count": 25,
   "id": "2f823501",
   "metadata": {},
   "outputs": [
    {
     "data": {
      "text/plain": [
       "(2, 4, 6, 8, 10)"
      ]
     },
     "execution_count": 25,
     "metadata": {},
     "output_type": "execute_result"
    }
   ],
   "source": [
    "# update\n",
    "tup = (2, 4, 6, 8, 10)\n",
    "tup"
   ]
  },
  {
   "cell_type": "code",
   "execution_count": 26,
   "id": "95d740e6",
   "metadata": {},
   "outputs": [
    {
     "data": {
      "text/plain": [
       "('Eagle', 'Crow', 'Owl', 'Nightingale')"
      ]
     },
     "execution_count": 26,
     "metadata": {},
     "output_type": "execute_result"
    }
   ],
   "source": [
    "tup = (\"Eagle\", \"Crow\", \"Owl\", \"Nightingale\")\n",
    "tup"
   ]
  },
  {
   "cell_type": "code",
   "execution_count": 27,
   "id": "f10e853e",
   "metadata": {},
   "outputs": [
    {
     "data": {
      "text/plain": [
       "'Owl'"
      ]
     },
     "execution_count": 27,
     "metadata": {},
     "output_type": "execute_result"
    }
   ],
   "source": [
    "# indexing, deleting and slicing\n",
    "tup[2]"
   ]
  },
  {
   "cell_type": "code",
   "execution_count": 28,
   "id": "19ef2115",
   "metadata": {},
   "outputs": [
    {
     "data": {
      "text/plain": [
       "('Crow', 'Owl')"
      ]
     },
     "execution_count": 28,
     "metadata": {},
     "output_type": "execute_result"
    }
   ],
   "source": [
    "tup2 = tup[1:3]\n",
    "tup2"
   ]
  },
  {
   "cell_type": "code",
   "execution_count": 29,
   "id": "cbf3d143",
   "metadata": {},
   "outputs": [
    {
     "data": {
      "text/plain": [
       "'Owl'"
      ]
     },
     "execution_count": 29,
     "metadata": {},
     "output_type": "execute_result"
    }
   ],
   "source": [
    "# built-in methods\n",
    "max(tup)"
   ]
  },
  {
   "cell_type": "code",
   "execution_count": 30,
   "id": "0400c4a9",
   "metadata": {},
   "outputs": [
    {
     "data": {
      "text/plain": [
       "'Crow'"
      ]
     },
     "execution_count": 30,
     "metadata": {},
     "output_type": "execute_result"
    }
   ],
   "source": [
    "min(tup)"
   ]
  },
  {
   "cell_type": "code",
   "execution_count": 31,
   "id": "82f3b51e",
   "metadata": {},
   "outputs": [
    {
     "data": {
      "text/plain": [
       "4"
      ]
     },
     "execution_count": 31,
     "metadata": {},
     "output_type": "execute_result"
    }
   ],
   "source": [
    "len(tup)"
   ]
  },
  {
   "cell_type": "code",
   "execution_count": 32,
   "id": "bfe609d8",
   "metadata": {},
   "outputs": [
    {
     "data": {
      "text/plain": [
       "[1, 2, 3]"
      ]
     },
     "execution_count": 32,
     "metadata": {},
     "output_type": "execute_result"
    }
   ],
   "source": [
    "x = [1, 2, 3]\n",
    "x"
   ]
  },
  {
   "cell_type": "code",
   "execution_count": 33,
   "id": "6efa1ae7",
   "metadata": {},
   "outputs": [],
   "source": [
    "x = tuple(x)"
   ]
  },
  {
   "cell_type": "code",
   "execution_count": 34,
   "id": "d3dd26e5",
   "metadata": {},
   "outputs": [
    {
     "data": {
      "text/plain": [
       "tuple"
      ]
     },
     "execution_count": 34,
     "metadata": {},
     "output_type": "execute_result"
    }
   ],
   "source": [
    "type(x)"
   ]
  },
  {
   "cell_type": "markdown",
   "id": "cc6aa442",
   "metadata": {},
   "source": [
    "# Perform the following on ‘Dictionary’ using Python\n",
    "\n",
    "a) Updating, deleting\n",
    "\n",
    "b) Using following built-in Methods to manipulate Dictionary: update(), values(),get(), clear(), copy(), type(), len()."
   ]
  },
  {
   "cell_type": "code",
   "execution_count": 35,
   "id": "fc090a0a",
   "metadata": {},
   "outputs": [],
   "source": [
    "# Question 4"
   ]
  },
  {
   "cell_type": "code",
   "execution_count": 36,
   "id": "db7752e6",
   "metadata": {},
   "outputs": [],
   "source": [
    "dic = {\"india\": \"new delhi\", \n",
    "       \"pakistan\": \"islamabad\", \n",
    "       \"nepal\": \"new katmandu\", \n",
    "       \"bangladesh\": \"dhaka\", \n",
    "       \"sri lanka\": \"Sri jayawardhanapura\"}"
   ]
  },
  {
   "cell_type": "code",
   "execution_count": 37,
   "id": "e753a237",
   "metadata": {},
   "outputs": [
    {
     "data": {
      "text/plain": [
       "{'india': 'new delhi',\n",
       " 'pakistan': 'islamabad',\n",
       " 'nepal': 'new katmandu',\n",
       " 'bangladesh': 'dhaka',\n",
       " 'sri lanka': 'Sri jayawardhanapura'}"
      ]
     },
     "execution_count": 37,
     "metadata": {},
     "output_type": "execute_result"
    }
   ],
   "source": [
    "dic"
   ]
  },
  {
   "cell_type": "code",
   "execution_count": 38,
   "id": "945e4e01",
   "metadata": {},
   "outputs": [
    {
     "data": {
      "text/plain": [
       "{'india': 'new delhi',\n",
       " 'pakistan': 'islamabad',\n",
       " 'nepal': 'katmandu',\n",
       " 'bangladesh': 'dhaka',\n",
       " 'sri lanka': 'Sri jayawardhanapura'}"
      ]
     },
     "execution_count": 38,
     "metadata": {},
     "output_type": "execute_result"
    }
   ],
   "source": [
    "# update\n",
    "dic.update({\"nepal\": \"katmandu\"})\n",
    "dic"
   ]
  },
  {
   "cell_type": "code",
   "execution_count": 39,
   "id": "df8e6855",
   "metadata": {},
   "outputs": [
    {
     "data": {
      "text/plain": [
       "{'india': 'new delhi',\n",
       " 'nepal': 'katmandu',\n",
       " 'bangladesh': 'dhaka',\n",
       " 'sri lanka': 'Sri jayawardhanapura'}"
      ]
     },
     "execution_count": 39,
     "metadata": {},
     "output_type": "execute_result"
    }
   ],
   "source": [
    "# deleting\n",
    "del dic[\"pakistan\"]\n",
    "dic"
   ]
  },
  {
   "cell_type": "code",
   "execution_count": 40,
   "id": "f6225450",
   "metadata": {},
   "outputs": [
    {
     "data": {
      "text/plain": [
       "{'india': 'new delhi',\n",
       " 'nepal': 'katmandu',\n",
       " 'bangladesh': 'dhaka',\n",
       " 'sri lanka': 'sri jayawardhanapura kotte'}"
      ]
     },
     "execution_count": 40,
     "metadata": {},
     "output_type": "execute_result"
    }
   ],
   "source": [
    "# built-in methods\n",
    "dic.update({\"sri lanka\": \"sri jayawardhanapura kotte\"})\n",
    "dic"
   ]
  },
  {
   "cell_type": "code",
   "execution_count": 41,
   "id": "63fc64df",
   "metadata": {},
   "outputs": [
    {
     "data": {
      "text/plain": [
       "dict_values(['new delhi', 'katmandu', 'dhaka', 'sri jayawardhanapura kotte'])"
      ]
     },
     "execution_count": 41,
     "metadata": {},
     "output_type": "execute_result"
    }
   ],
   "source": [
    "dic.values()"
   ]
  },
  {
   "cell_type": "code",
   "execution_count": 42,
   "id": "ffe91d0d",
   "metadata": {},
   "outputs": [
    {
     "data": {
      "text/plain": [
       "dict_keys(['india', 'nepal', 'bangladesh', 'sri lanka'])"
      ]
     },
     "execution_count": 42,
     "metadata": {},
     "output_type": "execute_result"
    }
   ],
   "source": [
    "dic.keys()"
   ]
  },
  {
   "cell_type": "code",
   "execution_count": 43,
   "id": "9e7991c1",
   "metadata": {},
   "outputs": [
    {
     "data": {
      "text/plain": [
       "'new delhi'"
      ]
     },
     "execution_count": 43,
     "metadata": {},
     "output_type": "execute_result"
    }
   ],
   "source": [
    "dic.get(\"india\")"
   ]
  },
  {
   "cell_type": "code",
   "execution_count": 44,
   "id": "8528d690",
   "metadata": {},
   "outputs": [
    {
     "data": {
      "text/plain": [
       "{'x': 'y'}"
      ]
     },
     "execution_count": 44,
     "metadata": {},
     "output_type": "execute_result"
    }
   ],
   "source": [
    "# clearing\n",
    "dic2 = {\"x\": \"y\"}\n",
    "dic2"
   ]
  },
  {
   "cell_type": "code",
   "execution_count": 45,
   "id": "a02592e0",
   "metadata": {},
   "outputs": [],
   "source": [
    "dic2.clear()"
   ]
  },
  {
   "cell_type": "code",
   "execution_count": 46,
   "id": "49d212b0",
   "metadata": {},
   "outputs": [
    {
     "data": {
      "text/plain": [
       "{}"
      ]
     },
     "execution_count": 46,
     "metadata": {},
     "output_type": "execute_result"
    }
   ],
   "source": [
    "dic2"
   ]
  },
  {
   "cell_type": "code",
   "execution_count": 47,
   "id": "dc254576",
   "metadata": {},
   "outputs": [
    {
     "data": {
      "text/plain": [
       "{'india': 'new delhi',\n",
       " 'nepal': 'katmandu',\n",
       " 'bangladesh': 'dhaka',\n",
       " 'sri lanka': 'sri jayawardhanapura kotte'}"
      ]
     },
     "execution_count": 47,
     "metadata": {},
     "output_type": "execute_result"
    }
   ],
   "source": [
    "dic2 = dic.copy()\n",
    "dic2"
   ]
  },
  {
   "cell_type": "code",
   "execution_count": 48,
   "id": "9f9a0125",
   "metadata": {},
   "outputs": [
    {
     "data": {
      "text/plain": [
       "dict"
      ]
     },
     "execution_count": 48,
     "metadata": {},
     "output_type": "execute_result"
    }
   ],
   "source": [
    "type(dic)"
   ]
  },
  {
   "cell_type": "code",
   "execution_count": 49,
   "id": "1f1150a3",
   "metadata": {},
   "outputs": [
    {
     "data": {
      "text/plain": [
       "4"
      ]
     },
     "execution_count": 49,
     "metadata": {},
     "output_type": "execute_result"
    }
   ],
   "source": [
    "len(dic)"
   ]
  },
  {
   "cell_type": "markdown",
   "id": "eb9512e0",
   "metadata": {},
   "source": [
    "# Create Separate Sets for Indian Cricket Players playing in T20, ODI and Test Match for current West Indies tour. Also perform the union(), intersection(), difference() operations on the above sets."
   ]
  },
  {
   "cell_type": "code",
   "execution_count": 50,
   "id": "ff3b8ffd",
   "metadata": {},
   "outputs": [],
   "source": [
    "# Question 5"
   ]
  },
  {
   "cell_type": "code",
   "execution_count": 51,
   "id": "589cc1e2",
   "metadata": {},
   "outputs": [],
   "source": [
    "# Create Separate Sets for Indian Cricket Players playing in T20, ODI and Test Match for current West Indies tour. \n",
    "# Also perform the union(), intersection(), difference() operations on the above sets.\n",
    "\n",
    "t20 = (\"Sharma\", \"Kohli\", \"Rahane\", \"Dhawan\", \"Chahal\", \"Bumrah\", \"Ashwin\", \"Pandya\", \"Jadeja\", \"Rahul\")\n",
    "odi = (\"Sharma\", \"Kohli\", \"Rahane\", \"Dhawan\", \"Pant\", \"Shami\", \"Ashwin\", \"Pandya\", \"Jadeja\", \"Iyer\")\n",
    "test = (\"Sharma\", \"Kohli\", \"Nehra\", \"Dhawan\", \"Dhoni\", \"Bumrah\", \"Ashwin\", \"Pandya\", \"Jadeja\", \"Rahul\")\n",
    "\n",
    "t20 = set(t20)\n",
    "odi = set(odi)\n",
    "test = set(test)"
   ]
  },
  {
   "cell_type": "code",
   "execution_count": 52,
   "id": "6c565d44",
   "metadata": {},
   "outputs": [
    {
     "data": {
      "text/plain": [
       "{'Ashwin',\n",
       " 'Bumrah',\n",
       " 'Chahal',\n",
       " 'Dhawan',\n",
       " 'Iyer',\n",
       " 'Jadeja',\n",
       " 'Kohli',\n",
       " 'Pandya',\n",
       " 'Pant',\n",
       " 'Rahane',\n",
       " 'Rahul',\n",
       " 'Shami',\n",
       " 'Sharma'}"
      ]
     },
     "execution_count": 52,
     "metadata": {},
     "output_type": "execute_result"
    }
   ],
   "source": [
    "set_union = t20 | odi\n",
    "set_union"
   ]
  },
  {
   "cell_type": "code",
   "execution_count": 53,
   "id": "9817014a",
   "metadata": {},
   "outputs": [
    {
     "data": {
      "text/plain": [
       "{'Ashwin', 'Dhawan', 'Jadeja', 'Kohli', 'Pandya', 'Rahane', 'Sharma'}"
      ]
     },
     "execution_count": 53,
     "metadata": {},
     "output_type": "execute_result"
    }
   ],
   "source": [
    "set_int = t20 & odi\n",
    "set_int"
   ]
  },
  {
   "cell_type": "code",
   "execution_count": 54,
   "id": "33c24c81",
   "metadata": {},
   "outputs": [
    {
     "data": {
      "text/plain": [
       "{'Bumrah', 'Chahal', 'Rahul'}"
      ]
     },
     "execution_count": 54,
     "metadata": {},
     "output_type": "execute_result"
    }
   ],
   "source": [
    "set_diff = t20 - odi\n",
    "set_diff"
   ]
  },
  {
   "cell_type": "code",
   "execution_count": 55,
   "id": "6b67e86f",
   "metadata": {},
   "outputs": [
    {
     "data": {
      "text/plain": [
       "{'Bumrah', 'Chahal', 'Iyer', 'Pant', 'Rahul', 'Shami'}"
      ]
     },
     "execution_count": 55,
     "metadata": {},
     "output_type": "execute_result"
    }
   ],
   "source": [
    "set_symm_diff = t20 ^ odi\n",
    "set_symm_diff"
   ]
  },
  {
   "cell_type": "markdown",
   "id": "ca48f724",
   "metadata": {},
   "source": [
    "# Find the Largest of the 4 Strings using Conditional Statements(if-elif-else) using Python."
   ]
  },
  {
   "cell_type": "code",
   "execution_count": 56,
   "id": "338036e7",
   "metadata": {},
   "outputs": [],
   "source": [
    "# Question 6"
   ]
  },
  {
   "cell_type": "code",
   "execution_count": 57,
   "id": "d79c2fcd",
   "metadata": {},
   "outputs": [],
   "source": [
    "s1 = \"Long\"\n",
    "s2 = \"Large\"\n",
    "s3 = \"Larger\"\n",
    "s4 = \"Largest\""
   ]
  },
  {
   "cell_type": "code",
   "execution_count": 58,
   "id": "ba852501",
   "metadata": {},
   "outputs": [
    {
     "name": "stdout",
     "output_type": "stream",
     "text": [
      "Largest is largest\n"
     ]
    }
   ],
   "source": [
    "if len(s1) >= len(s2) and len(s1) >= len(s3) and len(s1) >= len(s3):\n",
    "    print(s1, \" is largest\")\n",
    "elif len(s2) >= len(s1) and len(s2) >= len(s3) and len(s2) >= len(s4):\n",
    "    print(s2, \" is largest\")\n",
    "elif len(s3) >= len(s1) and len(s3) >= len(s2) and len(s3) >= len(s4):\n",
    "    print(s3, \" is largest\")\n",
    "else:{\n",
    " \"cells\": [\n",
    "  {\n",
    "   \"cell_type\": \"markdown\",\n",
    "   \"id\": \"d5b97489\",\n",
    "   \"metadata\": {},\n",
    "   \"source\": [\n",
    "    \"# Dewesh Chopra\\n\",\n",
    "    \"# MCA/10032/22\\n\",\n",
    "    \"# ML Lab\\n\",\n",
    "    \"# Assignment no. 1\"\n",
    "   ]\n",
    "  },\n",
    "  {\n",
    "   \"cell_type\": \"markdown\",\n",
    "   \"id\": \"f5498653\",\n",
    "   \"metadata\": {},\n",
    "   \"source\": [\n",
    "    \"# Perform following operations using Python:\\n\",\n",
    "    \"\\n\",\n",
    "    \"a) Updating an existing String\\n\",\n",
    "    \"\\n\",\n",
    "    \"b) Using built-in String Methods to Manipulate Strings e.g len(),find(),decode(),isalpha(), isdigit() ,count() etc.\"\n",
    "   ]\n",
    "  },\n",
    "  {\n",
    "   \"cell_type\": \"code\",\n",
    "   \"execution_count\": 1,\n",
    "   \"id\": \"ce12d857\",\n",
    "   \"metadata\": {},\n",
    "   \"outputs\": [],\n",
    "   \"source\": [\n",
    "    \"# Question 1\"\n",
    "   ]\n",
    "  },\n",
    "  {\n",
    "   \"cell_type\": \"code\",\n",
    "   \"execution_count\": 2,\n",
    "   \"id\": \"2c4ab58e\",\n",
    "   \"metadata\": {},\n",
    "   \"outputs\": [],\n",
    "   \"source\": [\n",
    "    \"str = \\\"Hello, world.\\\"\"\n",
    "   ]\n",
    "  },\n",
    "  {\n",
    "   \"cell_type\": \"code\",\n",
    "   \"execution_count\": 3,\n",
    "   \"id\": \"54d24401\",\n",
    "   \"metadata\": {},\n",
    "   \"outputs\": [],\n",
    "   \"source\": [\n",
    "    \"# update\\n\",\n",
    "    \"str = \\\"Hello World!\\\"\"\n",
    "   ]\n",
    "  },\n",
    "  {\n",
    "   \"cell_type\": \"code\",\n",
    "   \"execution_count\": 4,\n",
    "   \"id\": \"ab8fdee1\",\n",
    "   \"metadata\": {},\n",
    "   \"outputs\": [\n",
    "    {\n",
    "     \"data\": {\n",
    "      \"text/plain\": [\n",
    "       \"12\"\n",
    "      ]\n",
    "     },\n",
    "     \"execution_count\": 4,\n",
    "     \"metadata\": {},\n",
    "     \"output_type\": \"execute_result\"\n",
    "    }\n",
    "   ],\n",
    "   \"source\": [\n",
    "    \"# methods\\n\",\n",
    "    \"len(str)\"\n",
    "   ]\n",
    "  },\n",
    "  {\n",
    "   \"cell_type\": \"code\",\n",
    "   \"execution_count\": 5,\n",
    "   \"id\": \"bbc1f950\",\n",
    "   \"metadata\": {},\n",
    "   \"outputs\": [\n",
    "    {\n",
    "     \"data\": {\n",
    "      \"text/plain\": [\n",
    "       \"1\"\n",
    "      ]\n",
    "     },\n",
    "     \"execution_count\": 5,\n",
    "     \"metadata\": {},\n",
    "     \"output_type\": \"execute_result\"\n",
    "    }\n",
    "   ],\n",
    "   \"source\": [\n",
    "    \"str.find(\\\"e\\\")\"\n",
    "   ]\n",
    "  },\n",
    "  {\n",
    "   \"cell_type\": \"code\",\n",
    "   \"execution_count\": 6,\n",
    "   \"id\": \"f2d5c080\",\n",
    "   \"metadata\": {},\n",
    "   \"outputs\": [\n",
    "    {\n",
    "     \"data\": {\n",
    "      \"text/plain\": [\n",
    "       \"False\"\n",
    "      ]\n",
    "     },\n",
    "     \"execution_count\": 6,\n",
    "     \"metadata\": {},\n",
    "     \"output_type\": \"execute_result\"\n",
    "    }\n",
    "   ],\n",
    "   \"source\": [\n",
    "    \"str.isalpha()\"\n",
    "   ]\n",
    "  },\n",
    "  {\n",
    "   \"cell_type\": \"code\",\n",
    "   \"execution_count\": 7,\n",
    "   \"id\": \"6105b915\",\n",
    "   \"metadata\": {},\n",
    "   \"outputs\": [\n",
    "    {\n",
    "     \"data\": {\n",
    "      \"text/plain\": [\n",
    "       \"False\"\n",
    "      ]\n",
    "     },\n",
    "     \"execution_count\": 7,\n",
    "     \"metadata\": {},\n",
    "     \"output_type\": \"execute_result\"\n",
    "    }\n",
    "   ],\n",
    "   \"source\": [\n",
    "    \"str.isdigit()\"\n",
    "   ]\n",
    "  },\n",
    "  {\n",
    "   \"cell_type\": \"code\",\n",
    "   \"execution_count\": 8,\n",
    "   \"id\": \"2e5372fb\",\n",
    "   \"metadata\": {},\n",
    "   \"outputs\": [\n",
    "    {\n",
    "     \"data\": {\n",
    "      \"text/plain\": [\n",
    "       \"3\"\n",
    "      ]\n",
    "     },\n",
    "     \"execution_count\": 8,\n",
    "     \"metadata\": {},\n",
    "     \"output_type\": \"execute_result\"\n",
    "    }\n",
    "   ],\n",
    "   \"source\": [\n",
    "    \"str.count(\\\"l\\\")\"\n",
    "   ]\n",
    "  },\n",
    "  {\n",
    "   \"cell_type\": \"code\",\n",
    "   \"execution_count\": 9,\n",
    "   \"id\": \"f2dfd736\",\n",
    "   \"metadata\": {},\n",
    "   \"outputs\": [\n",
    "    {\n",
    "     \"data\": {\n",
    "      \"text/plain\": [\n",
    "       \"'Hello World!'\"\n",
    "      ]\n",
    "     },\n",
    "     \"execution_count\": 9,\n",
    "     \"metadata\": {},\n",
    "     \"output_type\": \"execute_result\"\n",
    "    }\n",
    "   ],\n",
    "   \"source\": [\n",
    "    \"strenc = str.encode('utf-8')\\n\",\n",
    "    \"strenc.decode(encoding='utf-8',errors='strict')\"\n",
    "   ]\n",
    "  },\n",
    "  {\n",
    "   \"cell_type\": \"markdown\",\n",
    "   \"id\": \"f96e6874\",\n",
    "   \"metadata\": {},\n",
    "   \"source\": [\n",
    "    \"# Perform the following on ‘Lists’ using Python\\n\",\n",
    "    \"\\n\",\n",
    "    \"a) Updating, Slicing, Indexing\\n\",\n",
    "    \"\\n\",\n",
    "    \"b) Using following built-in Methods to manipulate lists: append(), extend(), insert(), pop(), remove(),reverse(), sort().\"\n",
    "   ]\n",
    "  },\n",
    "  {\n",
    "   \"cell_type\": \"code\",\n",
    "   \"execution_count\": 10,\n",
    "   \"id\": \"fee4b1f3\",\n",
    "   \"metadata\": {},\n",
    "   \"outputs\": [],\n",
    "   \"source\": [\n",
    "    \"# Question 2\"\n",
    "   ]\n",
    "  },\n",
    "  {\n",
    "   \"cell_type\": \"code\",\n",
    "   \"execution_count\": 11,\n",
    "   \"id\": \"2b1693ee\",\n",
    "   \"metadata\": {},\n",
    "   \"outputs\": [],\n",
    "   \"source\": [\n",
    "    \"lst = [10, 20, 30, 40, 50]\"\n",
    "   ]\n",
    "  },\n",
    "  {\n",
    "   \"cell_type\": \"code\",\n",
    "   \"execution_count\": 12,\n",
    "   \"id\": \"b5fe4cc7\",\n",
    "   \"metadata\": {},\n",
    "   \"outputs\": [],\n",
    "   \"source\": [\n",
    "    \"# update\\n\",\n",
    "    \"lst = [\\\"Cat\\\", \\\"Dog\\\", \\\"Bear\\\", \\\"Snake\\\", \\\"Horse\\\", \\\"Tiger\\\"]\"\n",
    "   ]\n",
    "  },\n",
    "  {\n",
    "   \"cell_type\": \"code\",\n",
    "   \"execution_count\": 13,\n",
    "   \"id\": \"91355872\",\n",
    "   \"metadata\": {},\n",
    "   \"outputs\": [],\n",
    "   \"source\": [\n",
    "    \"# slicing\\n\",\n",
    "    \"lst2 = lst[1:4]\"\n",
    "   ]\n",
    "  },\n",
    "  {\n",
    "   \"cell_type\": \"code\",\n",
    "   \"execution_count\": 14,\n",
    "   \"id\": \"ffa57bb4\",\n",
    "   \"metadata\": {},\n",
    "   \"outputs\": [\n",
    "    {\n",
    "     \"data\": {\n",
    "      \"text/plain\": [\n",
    "       \"['Dog', 'Bear', 'Snake']\"\n",
    "      ]\n",
    "     },\n",
    "     \"execution_count\": 14,\n",
    "     \"metadata\": {},\n",
    "     \"output_type\": \"execute_result\"\n",
    "    }\n",
    "   ],\n",
    "   \"source\": [\n",
    "    \"lst2\"\n",
    "   ]\n",
    "  },\n",
    "  {\n",
    "   \"cell_type\": \"code\",\n",
    "   \"execution_count\": 15,\n",
    "   \"id\": \"8bcaddbf\",\n",
    "   \"metadata\": {},\n",
    "   \"outputs\": [\n",
    "    {\n",
    "     \"data\": {\n",
    "      \"text/plain\": [\n",
    "       \"'Snake'\"\n",
    "      ]\n",
    "     },\n",
    "     \"execution_count\": 15,\n",
    "     \"metadata\": {},\n",
    "     \"output_type\": \"execute_result\"\n",
    "    }\n",
    "   ],\n",
    "   \"source\": [\n",
    "    \"# indexing\\n\",\n",
    "    \"lst[3]\"\n",
    "   ]\n",
    "  },\n",
    "  {\n",
    "   \"cell_type\": \"code\",\n",
    "   \"execution_count\": 16,\n",
    "   \"id\": \"5bddc3b8\",\n",
    "   \"metadata\": {},\n",
    "   \"outputs\": [\n",
    "    {\n",
    "     \"data\": {\n",
    "      \"text/plain\": [\n",
    "       \"['Cat', 'Dog', 'Bear', 'Snake', 'Horse', 'Tiger', 'Wolf']\"\n",
    "      ]\n",
    "     },\n",
    "     \"execution_count\": 16,\n",
    "     \"metadata\": {},\n",
    "     \"output_type\": \"execute_result\"\n",
    "    }\n",
    "   ],\n",
    "   \"source\": [\n",
    "    \"# append\\n\",\n",
    "    \"lst.append(\\\"Wolf\\\")\\n\",\n",
    "    \"lst\"\n",
    "   ]\n",
    "  },\n",
    "  {\n",
    "   \"cell_type\": \"code\",\n",
    "   \"execution_count\": 17,\n",
    "   \"id\": \"a71e643e\",\n",
    "   \"metadata\": {},\n",
    "   \"outputs\": [\n",
    "    {\n",
    "     \"data\": {\n",
    "      \"text/plain\": [\n",
    "       \"['Cat', 'Dog', 'Bear', 'Snake', 'Horse', 'Tiger', 'Wolf', 'Eagle', 'Koala']\"\n",
    "      ]\n",
    "     },\n",
    "     \"execution_count\": 17,\n",
    "     \"metadata\": {},\n",
    "     \"output_type\": \"execute_result\"\n",
    "    }\n",
    "   ],\n",
    "   \"source\": [\n",
    "    \"# extend\\n\",\n",
    "    \"lst3 = [\\\"Eagle\\\", \\\"Koala\\\"]\\n\",\n",
    "    \"lst.extend(lst3)\\n\",\n",
    "    \"lst\"\n",
    "   ]\n",
    "  },\n",
    "  {\n",
    "   \"cell_type\": \"code\",\n",
    "   \"execution_count\": 18,\n",
    "   \"id\": \"0c9a8d84\",\n",
    "   \"metadata\": {},\n",
    "   \"outputs\": [\n",
    "    {\n",
    "     \"data\": {\n",
    "      \"text/plain\": [\n",
    "       \"['Cat',\\n\",\n",
    "       \" 'Dog',\\n\",\n",
    "       \" 'Panda',\\n\",\n",
    "       \" 'Bear',\\n\",\n",
    "       \" 'Snake',\\n\",\n",
    "       \" 'Horse',\\n\",\n",
    "       \" 'Tiger',\\n\",\n",
    "       \" 'Wolf',\\n\",\n",
    "       \" 'Eagle',\\n\",\n",
    "       \" 'Koala']\"\n",
    "      ]\n",
    "     },\n",
    "     \"execution_count\": 18,\n",
    "     \"metadata\": {},\n",
    "     \"output_type\": \"execute_result\"\n",
    "    }\n",
    "   ],\n",
    "   \"source\": [\n",
    "    \"# insert\\n\",\n",
    "    \"lst.insert(2, \\\"Panda\\\")\\n\",\n",
    "    \"lst\"\n",
    "   ]\n",
    "  },\n",
    "  {\n",
    "   \"cell_type\": \"code\",\n",
    "   \"execution_count\": 19,\n",
    "   \"id\": \"7c6ef848\",\n",
    "   \"metadata\": {},\n",
    "   \"outputs\": [\n",
    "    {\n",
    "     \"data\": {\n",
    "      \"text/plain\": [\n",
    "       \"['Cat', 'Dog', 'Panda', 'Bear', 'Snake', 'Horse', 'Tiger', 'Wolf', 'Eagle']\"\n",
    "      ]\n",
    "     },\n",
    "     \"execution_count\": 19,\n",
    "     \"metadata\": {},\n",
    "     \"output_type\": \"execute_result\"\n",
    "    }\n",
    "   ],\n",
    "   \"source\": [\n",
    "    \"# pop and remove\\n\",\n",
    "    \"lst.pop()\\n\",\n",
    "    \"lst\"\n",
    "   ]\n",
    "  },\n",
    "  {\n",
    "   \"cell_type\": \"code\",\n",
    "   \"execution_count\": 20,\n",
    "   \"id\": \"5df92b4f\",\n",
    "   \"metadata\": {},\n",
    "   \"outputs\": [\n",
    "    {\n",
    "     \"data\": {\n",
    "      \"text/plain\": [\n",
    "       \"['Cat', 'Dog', 'Bear', 'Snake', 'Horse', 'Tiger', 'Wolf', 'Eagle']\"\n",
    "      ]\n",
    "     },\n",
    "     \"execution_count\": 20,\n",
    "     \"metadata\": {},\n",
    "     \"output_type\": \"execute_result\"\n",
    "    }\n",
    "   ],\n",
    "   \"source\": [\n",
    "    \"lst.remove(\\\"Panda\\\")\\n\",\n",
    "    \"lst\"\n",
    "   ]\n",
    "  },\n",
    "  {\n",
    "   \"cell_type\": \"code\",\n",
    "   \"execution_count\": 21,\n",
    "   \"id\": \"f292020a\",\n",
    "   \"metadata\": {},\n",
    "   \"outputs\": [],\n",
    "   \"source\": [\n",
    "    \"# reordering\\n\",\n",
    "    \"lst.reverse()\"\n",
    "   ]\n",
    "  },\n",
    "  {\n",
    "   \"cell_type\": \"code\",\n",
    "   \"execution_count\": 22,\n",
    "   \"id\": \"33e70349\",\n",
    "   \"metadata\": {},\n",
    "   \"outputs\": [\n",
    "    {\n",
    "     \"data\": {\n",
    "      \"text/plain\": [\n",
    "       \"['Eagle', 'Wolf', 'Tiger', 'Horse', 'Snake', 'Bear', 'Dog', 'Cat']\"\n",
    "      ]\n",
    "     },\n",
    "     \"execution_count\": 22,\n",
    "     \"metadata\": {},\n",
    "     \"output_type\": \"execute_result\"\n",
    "    }\n",
    "   ],\n",
    "   \"source\": [\n",
    "    \"lst\"\n",
    "   ]\n",
    "  },\n",
    "  {\n",
    "   \"cell_type\": \"code\",\n",
    "   \"execution_count\": 23,\n",
    "   \"id\": \"8eb4825a\",\n",
    "   \"metadata\": {},\n",
    "   \"outputs\": [\n",
    "    {\n",
    "     \"data\": {\n",
    "      \"text/plain\": [\n",
    "       \"['Bear', 'Cat', 'Dog', 'Eagle', 'Horse', 'Snake', 'Tiger', 'Wolf']\"\n",
    "      ]\n",
    "     },\n",
    "     \"execution_count\": 23,\n",
    "     \"metadata\": {},\n",
    "     \"output_type\": \"execute_result\"\n",
    "    }\n",
    "   ],\n",
    "   \"source\": [\n",
    "    \"lst.sort()\\n\",\n",
    "    \"lst\"\n",
    "   ]\n",
    "  },\n",
    "  {\n",
    "   \"cell_type\": \"markdown\",\n",
    "   \"id\": \"9dc0cfe7\",\n",
    "   \"metadata\": {},\n",
    "   \"source\": [\n",
    "    \"# Perform the following on ‘Tuples’ using Python\\n\",\n",
    "    \"\\n\",\n",
    "    \"a) Updating, Indexing, deleting, slicing.\\n\",\n",
    "    \"\\n\",\n",
    "    \"b) Using following built-in Methods to manipulate Tuples: max(), min(), len(), tuple().\"\n",
    "   ]\n",
    "  },\n",
    "  {\n",
    "   \"cell_type\": \"code\",\n",
    "   \"execution_count\": 24,\n",
    "   \"id\": \"19643863\",\n",
    "   \"metadata\": {},\n",
    "   \"outputs\": [],\n",
    "   \"source\": [\n",
    "    \"# Question 3\"\n",
    "   ]\n",
    "  },\n",
    "  {\n",
    "   \"cell_type\": \"code\",\n",
    "   \"execution_count\": 25,\n",
    "   \"id\": \"51964397\",\n",
    "   \"metadata\": {},\n",
    "   \"outputs\": [\n",
    "    {\n",
    "     \"data\": {\n",
    "      \"text/plain\": [\n",
    "       \"(2, 4, 6, 8, 10)\"\n",
    "      ]\n",
    "     },\n",
    "     \"execution_count\": 25,\n",
    "     \"metadata\": {},\n",
    "     \"output_type\": \"execute_result\"\n",
    "    }\n",
    "   ],\n",
    "   \"source\": [\n",
    "    \"# update\\n\",\n",
    "    \"tup = (2, 4, 6, 8, 10)\\n\",\n",
    "    \"tup\"\n",
    "   ]\n",
    "  },\n",
    "  {\n",
    "   \"cell_type\": \"code\",\n",
    "   \"execution_count\": 26,\n",
    "   \"id\": \"8aec4e8b\",\n",
    "   \"metadata\": {},\n",
    "   \"outputs\": [\n",
    "    {\n",
    "     \"data\": {\n",
    "      \"text/plain\": [\n",
    "       \"('Eagle', 'Crow', 'Owl', 'Nightingale')\"\n",
    "      ]\n",
    "     },\n",
    "     \"execution_count\": 26,\n",
    "     \"metadata\": {},\n",
    "     \"output_type\": \"execute_result\"\n",
    "    }\n",
    "   ],\n",
    "   \"source\": [\n",
    "    \"tup = (\\\"Eagle\\\", \\\"Crow\\\", \\\"Owl\\\", \\\"Nightingale\\\")\\n\",\n",
    "    \"tup\"\n",
    "   ]\n",
    "  },\n",
    "  {\n",
    "   \"cell_type\": \"code\",\n",
    "   \"execution_count\": 27,\n",
    "   \"id\": \"36f6cde1\",\n",
    "   \"metadata\": {},\n",
    "   \"outputs\": [\n",
    "    {\n",
    "     \"data\": {\n",
    "      \"text/plain\": [\n",
    "       \"'Owl'\"\n",
    "      ]\n",
    "     },\n",
    "     \"execution_count\": 27,\n",
    "     \"metadata\": {},\n",
    "     \"output_type\": \"execute_result\"\n",
    "    }\n",
    "   ],\n",
    "   \"source\": [\n",
    "    \"# indexing, deleting and slicing\\n\",\n",
    "    \"tup[2]\"\n",
    "   ]\n",
    "  },\n",
    "  {\n",
    "   \"cell_type\": \"code\",\n",
    "   \"execution_count\": 28,\n",
    "   \"id\": \"3cd826a8\",\n",
    "   \"metadata\": {},\n",
    "   \"outputs\": [\n",
    "    {\n",
    "     \"data\": {\n",
    "      \"text/plain\": [\n",
    "       \"('Crow', 'Owl')\"\n",
    "      ]\n",
    "     },\n",
    "     \"execution_count\": 28,\n",
    "     \"metadata\": {},\n",
    "     \"output_type\": \"execute_result\"\n",
    "    }\n",
    "   ],\n",
    "   \"source\": [\n",
    "    \"tup2 = tup[1:3]\\n\",\n",
    "    \"tup2\"\n",
    "   ]\n",
    "  },\n",
    "  {\n",
    "   \"cell_type\": \"code\",\n",
    "   \"execution_count\": 29,\n",
    "   \"id\": \"f7bc7f0a\",\n",
    "   \"metadata\": {},\n",
    "   \"outputs\": [\n",
    "    {\n",
    "     \"data\": {\n",
    "      \"text/plain\": [\n",
    "       \"'Owl'\"\n",
    "      ]\n",
    "     },\n",
    "     \"execution_count\": 29,\n",
    "     \"metadata\": {},\n",
    "     \"output_type\": \"execute_result\"\n",
    "    }\n",
    "   ],\n",
    "   \"source\": [\n",
    "    \"# built-in methods\\n\",\n",
    "    \"max(tup)\"\n",
    "   ]\n",
    "  },\n",
    "  {\n",
    "   \"cell_type\": \"code\",\n",
    "   \"execution_count\": 30,\n",
    "   \"id\": \"c8ce3a43\",\n",
    "   \"metadata\": {},\n",
    "   \"outputs\": [\n",
    "    {\n",
    "     \"data\": {\n",
    "      \"text/plain\": [\n",
    "       \"'Crow'\"\n",
    "      ]\n",
    "     },\n",
    "     \"execution_count\": 30,\n",
    "     \"metadata\": {},\n",
    "     \"output_type\": \"execute_result\"\n",
    "    }\n",
    "   ],\n",
    "   \"source\": [\n",
    "    \"min(tup)\"\n",
    "   ]\n",
    "  },\n",
    "  {\n",
    "   \"cell_type\": \"code\",\n",
    "   \"execution_count\": 31,\n",
    "   \"id\": \"d5762d6b\",\n",
    "   \"metadata\": {},\n",
    "   \"outputs\": [\n",
    "    {\n",
    "     \"data\": {\n",
    "      \"text/plain\": [\n",
    "       \"4\"\n",
    "      ]\n",
    "     },\n",
    "     \"execution_count\": 31,\n",
    "     \"metadata\": {},\n",
    "     \"output_type\": \"execute_result\"\n",
    "    }\n",
    "   ],\n",
    "   \"source\": [\n",
    "    \"len(tup)\"\n",
    "   ]\n",
    "  },\n",
    "  {\n",
    "   \"cell_type\": \"code\",\n",
    "   \"execution_count\": 32,\n",
    "   \"id\": \"e8e1e4b5\",\n",
    "   \"metadata\": {},\n",
    "   \"outputs\": [\n",
    "    {\n",
    "     \"data\": {\n",
    "      \"text/plain\": [\n",
    "       \"[1, 2, 3]\"\n",
    "      ]\n",
    "     },\n",
    "     \"execution_count\": 32,\n",
    "     \"metadata\": {},\n",
    "     \"output_type\": \"execute_result\"\n",
    "    }\n",
    "   ],\n",
    "   \"source\": [\n",
    "    \"x = [1, 2, 3]\\n\",\n",
    "    \"x\"\n",
    "   ]\n",
    "  },\n",
    "  {\n",
    "   \"cell_type\": \"code\",\n",
    "   \"execution_count\": 33,\n",
    "   \"id\": \"1b3a4513\",\n",
    "   \"metadata\": {},\n",
    "   \"outputs\": [],\n",
    "   \"source\": [\n",
    "    \"x = tuple(x)\"\n",
    "   ]\n",
    "  },\n",
    "  {\n",
    "   \"cell_type\": \"code\",\n",
    "   \"execution_count\": 34,\n",
    "   \"id\": \"5a107cdc\",\n",
    "   \"metadata\": {},\n",
    "   \"outputs\": [\n",
    "    {\n",
    "     \"data\": {\n",
    "      \"text/plain\": [\n",
    "       \"tuple\"\n",
    "      ]\n",
    "     },\n",
    "     \"execution_count\": 34,\n",
    "     \"metadata\": {},\n",
    "     \"output_type\": \"execute_result\"\n",
    "    }\n",
    "   ],\n",
    "   \"source\": [\n",
    "    \"type(x)\"\n",
    "   ]\n",
    "  },\n",
    "  {\n",
    "   \"cell_type\": \"markdown\",\n",
    "   \"id\": \"f69374ce\",\n",
    "   \"metadata\": {},\n",
    "   \"source\": [\n",
    "    \"# Perform the following on ‘Dictionary’ using Python\\n\",\n",
    "    \"\\n\",\n",
    "    \"a) Updating, deleting\\n\",\n",
    "    \"\\n\",\n",
    "    \"b) Using following built-in Methods to manipulate Dictionary: update(), values(),get(), clear(), copy(), type(), len().\"\n",
    "   ]\n",
    "  },\n",
    "  {\n",
    "   \"cell_type\": \"code\",\n",
    "   \"execution_count\": 35,\n",
    "   \"id\": \"b0e8e296\",\n",
    "   \"metadata\": {},\n",
    "   \"outputs\": [],\n",
    "   \"source\": [\n",
    "    \"# Question 4\"\n",
    "   ]\n",
    "  },\n",
    "  {\n",
    "   \"cell_type\": \"code\",\n",
    "   \"execution_count\": 36,\n",
    "   \"id\": \"d67df0e8\",\n",
    "   \"metadata\": {},\n",
    "   \"outputs\": [],\n",
    "   \"source\": [\n",
    "    \"dic = {\\\"india\\\": \\\"new delhi\\\", \\n\",\n",
    "    \"       \\\"pakistan\\\": \\\"islamabad\\\", \\n\",\n",
    "    \"       \\\"nepal\\\": \\\"new katmandu\\\", \\n\",\n",
    "    \"       \\\"bangladesh\\\": \\\"dhaka\\\", \\n\",\n",
    "    \"       \\\"sri lanka\\\": \\\"Sri jayawardhanapura\\\"}\"\n",
    "   ]\n",
    "  },\n",
    "  {\n",
    "   \"cell_type\": \"code\",\n",
    "   \"execution_count\": 37,\n",
    "   \"id\": \"117c16cf\",\n",
    "   \"metadata\": {},\n",
    "   \"outputs\": [\n",
    "    {\n",
    "     \"data\": {\n",
    "      \"text/plain\": [\n",
    "       \"{'india': 'new delhi',\\n\",\n",
    "       \" 'pakistan': 'islamabad',\\n\",\n",
    "       \" 'nepal': 'new katmandu',\\n\",\n",
    "       \" 'bangladesh': 'dhaka',\\n\",\n",
    "       \" 'sri lanka': 'Sri jayawardhanapura'}\"\n",
    "      ]\n",
    "     },\n",
    "     \"execution_count\": 37,\n",
    "     \"metadata\": {},\n",
    "     \"output_type\": \"execute_result\"\n",
    "    }\n",
    "   ],\n",
    "   \"source\": [\n",
    "    \"dic\"\n",
    "   ]\n",
    "  },\n",
    "  {\n",
    "   \"cell_type\": \"code\",\n",
    "   \"execution_count\": 38,\n",
    "   \"id\": \"db08be68\",\n",
    "   \"metadata\": {},\n",
    "   \"outputs\": [\n",
    "    {\n",
    "     \"data\": {\n",
    "      \"text/plain\": [\n",
    "       \"{'india': 'new delhi',\\n\",\n",
    "       \" 'pakistan': 'islamabad',\\n\",\n",
    "       \" 'nepal': 'katmandu',\\n\",\n",
    "       \" 'bangladesh': 'dhaka',\\n\",\n",
    "       \" 'sri lanka': 'Sri jayawardhanapura'}\"\n",
    "      ]\n",
    "     },\n",
    "     \"execution_count\": 38,\n",
    "     \"metadata\": {},\n",
    "     \"output_type\": \"execute_result\"\n",
    "    }\n",
    "   ],\n",
    "   \"source\": [\n",
    "    \"# update\\n\",\n",
    "    \"dic.update({\\\"nepal\\\": \\\"katmandu\\\"})\\n\",\n",
    "    \"dic\"\n",
    "   ]\n",
    "  },\n",
    "  {\n",
    "   \"cell_type\": \"code\",\n",
    "   \"execution_count\": 39,\n",
    "   \"id\": \"7f333447\",\n",
    "   \"metadata\": {},\n",
    "   \"outputs\": [\n",
    "    {\n",
    "     \"data\": {\n",
    "      \"text/plain\": [\n",
    "       \"{'india': 'new delhi',\\n\",\n",
    "       \" 'nepal': 'katmandu',\\n\",\n",
    "       \" 'bangladesh': 'dhaka',\\n\",\n",
    "       \" 'sri lanka': 'Sri jayawardhanapura'}\"\n",
    "      ]\n",
    "     },\n",
    "     \"execution_count\": 39,\n",
    "     \"metadata\": {},\n",
    "     \"output_type\": \"execute_result\"\n",
    "    }\n",
    "   ],\n",
    "   \"source\": [\n",
    "    \"# deleting\\n\",\n",
    "    \"del dic[\\\"pakistan\\\"]\\n\",\n",
    "    \"dic\"\n",
    "   ]\n",
    "  },\n",
    "  {\n",
    "   \"cell_type\": \"code\",\n",
    "   \"execution_count\": 40,\n",
    "   \"id\": \"999598ca\",\n",
    "   \"metadata\": {},\n",
    "   \"outputs\": [\n",
    "    {\n",
    "     \"data\": {\n",
    "      \"text/plain\": [\n",
    "       \"{'india': 'new delhi',\\n\",\n",
    "       \" 'nepal': 'katmandu',\\n\",\n",
    "       \" 'bangladesh': 'dhaka',\\n\",\n",
    "       \" 'sri lanka': 'sri jayawardhanapura kotte'}\"\n",
    "      ]\n",
    "     },\n",
    "     \"execution_count\": 40,\n",
    "     \"metadata\": {},\n",
    "     \"output_type\": \"execute_result\"\n",
    "    }\n",
    "   ],\n",
    "   \"source\": [\n",
    "    \"# built-in methods\\n\",\n",
    "    \"dic.update({\\\"sri lanka\\\": \\\"sri jayawardhanapura kotte\\\"})\\n\",\n",
    "    \"dic\"\n",
    "   ]\n",
    "  },\n",
    "  {\n",
    "   \"cell_type\": \"code\",\n",
    "   \"execution_count\": 41,\n",
    "   \"id\": \"58cca924\",\n",
    "   \"metadata\": {},\n",
    "   \"outputs\": [\n",
    "    {\n",
    "     \"data\": {\n",
    "      \"text/plain\": [\n",
    "       \"dict_values(['new delhi', 'katmandu', 'dhaka', 'sri jayawardhanapura kotte'])\"\n",
    "      ]\n",
    "     },\n",
    "     \"execution_count\": 41,\n",
    "     \"metadata\": {},\n",
    "     \"output_type\": \"execute_result\"\n",
    "    }\n",
    "   ],\n",
    "   \"source\": [\n",
    "    \"dic.values()\"\n",
    "   ]\n",
    "  },\n",
    "  {\n",
    "   \"cell_type\": \"code\",\n",
    "   \"execution_count\": 42,\n",
    "   \"id\": \"4e832439\",\n",
    "   \"metadata\": {},\n",
    "   \"outputs\": [\n",
    "    {\n",
    "     \"data\": {\n",
    "      \"text/plain\": [\n",
    "       \"dict_keys(['india', 'nepal', 'bangladesh', 'sri lanka'])\"\n",
    "      ]\n",
    "     },\n",
    "     \"execution_count\": 42,\n",
    "     \"metadata\": {},\n",
    "     \"output_type\": \"execute_result\"\n",
    "    }\n",
    "   ],\n",
    "   \"source\": [\n",
    "    \"dic.keys()\"\n",
    "   ]\n",
    "  },\n",
    "  {\n",
    "   \"cell_type\": \"code\",\n",
    "   \"execution_count\": 43,\n",
    "   \"id\": \"9e385a4e\",\n",
    "   \"metadata\": {},\n",
    "   \"outputs\": [\n",
    "    {\n",
    "     \"data\": {\n",
    "      \"text/plain\": [\n",
    "       \"'new delhi'\"\n",
    "      ]\n",
    "     },\n",
    "     \"execution_count\": 43,\n",
    "     \"metadata\": {},\n",
    "     \"output_type\": \"execute_result\"\n",
    "    }\n",
    "   ],\n",
    "   \"source\": [\n",
    "    \"dic.get(\\\"india\\\")\"\n",
    "   ]\n",
    "  },\n",
    "  {\n",
    "   \"cell_type\": \"code\",\n",
    "   \"execution_count\": 44,\n",
    "   \"id\": \"f65223a0\",\n",
    "   \"metadata\": {},\n",
    "   \"outputs\": [\n",
    "    {\n",
    "     \"data\": {\n",
    "      \"text/plain\": [\n",
    "       \"{'x': 'y'}\"\n",
    "      ]\n",
    "     },\n",
    "     \"execution_count\": 44,\n",
    "     \"metadata\": {},\n",
    "     \"output_type\": \"execute_result\"\n",
    "    }\n",
    "   ],\n",
    "   \"source\": [\n",
    "    \"# clearing\\n\",\n",
    "    \"dic2 = {\\\"x\\\": \\\"y\\\"}\\n\",\n",
    "    \"dic2\"\n",
    "   ]\n",
    "  },\n",
    "  {\n",
    "   \"cell_type\": \"code\",\n",
    "   \"execution_count\": 45,\n",
    "   \"id\": \"f490878c\",\n",
    "   \"metadata\": {},\n",
    "   \"outputs\": [],\n",
    "   \"source\": [\n",
    "    \"dic2.clear()\"\n",
    "   ]\n",
    "  },\n",
    "  {\n",
    "   \"cell_type\": \"code\",\n",
    "   \"execution_count\": 46,\n",
    "   \"id\": \"0c58732e\",\n",
    "   \"metadata\": {},\n",
    "   \"outputs\": [\n",
    "    {\n",
    "     \"data\": {\n",
    "      \"text/plain\": [\n",
    "       \"{}\"\n",
    "      ]\n",
    "     },\n",
    "     \"execution_count\": 46,\n",
    "     \"metadata\": {},\n",
    "     \"output_type\": \"execute_result\"\n",
    "    }\n",
    "   ],\n",
    "   \"source\": [\n",
    "    \"dic2\"\n",
    "   ]\n",
    "  },\n",
    "  {\n",
    "   \"cell_type\": \"code\",\n",
    "   \"execution_count\": 47,\n",
    "   \"id\": \"b65d7c7c\",\n",
    "   \"metadata\": {},\n",
    "   \"outputs\": [\n",
    "    {\n",
    "     \"data\": {\n",
    "      \"text/plain\": [\n",
    "       \"{'india': 'new delhi',\\n\",\n",
    "       \" 'nepal': 'katmandu',\\n\",\n",
    "       \" 'bangladesh': 'dhaka',\\n\",\n",
    "       \" 'sri lanka': 'sri jayawardhanapura kotte'}\"\n",
    "      ]\n",
    "     },\n",
    "     \"execution_count\": 47,\n",
    "     \"metadata\": {},\n",
    "     \"output_type\": \"execute_result\"\n",
    "    }\n",
    "   ],\n",
    "   \"source\": [\n",
    "    \"dic2 = dic.copy()\\n\",\n",
    "    \"dic2\"\n",
    "   ]\n",
    "  },\n",
    "  {\n",
    "   \"cell_type\": \"code\",\n",
    "   \"execution_count\": 48,\n",
    "   \"id\": \"32310f13\",\n",
    "   \"metadata\": {},\n",
    "   \"outputs\": [\n",
    "    {\n",
    "     \"data\": {\n",
    "      \"text/plain\": [\n",
    "       \"dict\"\n",
    "      ]\n",
    "     },\n",
    "     \"execution_count\": 48,\n",
    "     \"metadata\": {},\n",
    "     \"output_type\": \"execute_result\"\n",
    "    }\n",
    "   ],\n",
    "   \"source\": [\n",
    "    \"type(dic)\"\n",
    "   ]\n",
    "  },\n",
    "  {\n",
    "   \"cell_type\": \"code\",\n",
    "   \"execution_count\": 49,\n",
    "   \"id\": \"7090ffbc\",\n",
    "   \"metadata\": {},\n",
    "   \"outputs\": [\n",
    "    {\n",
    "     \"data\": {\n",
    "      \"text/plain\": [\n",
    "       \"4\"\n",
    "      ]\n",
    "     },\n",
    "     \"execution_count\": 49,\n",
    "     \"metadata\": {},\n",
    "     \"output_type\": \"execute_result\"\n",
    "    }\n",
    "   ],\n",
    "   \"source\": [\n",
    "    \"len(dic)\"\n",
    "   ]\n",
    "  },\n",
    "  {\n",
    "   \"cell_type\": \"markdown\",\n",
    "   \"id\": \"312960bc\",\n",
    "   \"metadata\": {},\n",
    "   \"source\": [\n",
    "    \"# Create Separate Sets for Indian Cricket Players playing in T20, ODI and Test Match for current West Indies tour. Also perform the union(), intersection(), difference() operations on the above sets.\"\n",
    "   ]\n",
    "  },\n",
    "  {\n",
    "   \"cell_type\": \"code\",\n",
    "   \"execution_count\": 50,\n",
    "   \"id\": \"02243b28\",\n",
    "   \"metadata\": {},\n",
    "   \"outputs\": [],\n",
    "   \"source\": [\n",
    "    \"# Question 5\"\n",
    "   ]\n",
    "  },\n",
    "  {\n",
    "   \"cell_type\": \"code\",\n",
    "   \"execution_count\": 51,\n",
    "   \"id\": \"71134265\",\n",
    "   \"metadata\": {},\n",
    "   \"outputs\": [],\n",
    "   \"source\": [\n",
    "    \"# Create Separate Sets for Indian Cricket Players playing in T20, ODI and Test Match for current West Indies tour. \\n\",\n",
    "    \"# Also perform the union(), intersection(), difference() operations on the above sets.\\n\",\n",
    "    \"\\n\",\n",
    "    \"t20 = (\\\"Sharma\\\", \\\"Kohli\\\", \\\"Rahane\\\", \\\"Dhawan\\\", \\\"Chahal\\\", \\\"Bumrah\\\", \\\"Ashwin\\\", \\\"Pandya\\\", \\\"Jadeja\\\", \\\"Rahul\\\")\\n\",\n",
    "    \"odi = (\\\"Sharma\\\", \\\"Kohli\\\", \\\"Rahane\\\", \\\"Dhawan\\\", \\\"Pant\\\", \\\"Shami\\\", \\\"Ashwin\\\", \\\"Pandya\\\", \\\"Jadeja\\\", \\\"Iyer\\\")\\n\",\n",
    "    \"test = (\\\"Sharma\\\", \\\"Kohli\\\", \\\"Nehra\\\", \\\"Dhawan\\\", \\\"Dhoni\\\", \\\"Bumrah\\\", \\\"Ashwin\\\", \\\"Pandya\\\", \\\"Jadeja\\\", \\\"Rahul\\\")\\n\",\n",
    "    \"\\n\",\n",
    "    \"t20 = set(t20)\\n\",\n",
    "    \"odi = set(odi)\\n\",\n",
    "    \"test = set(test)\"\n",
    "   ]\n",
    "  },\n",
    "  {\n",
    "   \"cell_type\": \"code\",\n",
    "   \"execution_count\": 52,\n",
    "   \"id\": \"a6be487b\",\n",
    "   \"metadata\": {},\n",
    "   \"outputs\": [\n",
    "    {\n",
    "     \"data\": {\n",
    "      \"text/plain\": [\n",
    "       \"{'Ashwin',\\n\",\n",
    "       \" 'Bumrah',\\n\",\n",
    "       \" 'Chahal',\\n\",\n",
    "       \" 'Dhawan',\\n\",\n",
    "       \" 'Iyer',\\n\",\n",
    "       \" 'Jadeja',\\n\",\n",
    "       \" 'Kohli',\\n\",\n",
    "       \" 'Pandya',\\n\",\n",
    "       \" 'Pant',\\n\",\n",
    "       \" 'Rahane',\\n\",\n",
    "       \" 'Rahul',\\n\",\n",
    "       \" 'Shami',\\n\",\n",
    "       \" 'Sharma'}\"\n",
    "      ]\n",
    "     },\n",
    "     \"execution_count\": 52,\n",
    "     \"metadata\": {},\n",
    "     \"output_type\": \"execute_result\"\n",
    "    }\n",
    "   ],\n",
    "   \"source\": [\n",
    "    \"set_union = t20 | odi\\n\",\n",
    "    \"set_union\"\n",
    "   ]\n",
    "  },\n",
    "  {\n",
    "   \"cell_type\": \"code\",\n",
    "   \"execution_count\": 53,\n",
    "   \"id\": \"31c7e0cb\",\n",
    "   \"metadata\": {},\n",
    "   \"outputs\": [\n",
    "    {\n",
    "     \"data\": {\n",
    "      \"text/plain\": [\n",
    "       \"{'Ashwin', 'Dhawan', 'Jadeja', 'Kohli', 'Pandya', 'Rahane', 'Sharma'}\"\n",
    "      ]\n",
    "     },\n",
    "     \"execution_count\": 53,\n",
    "     \"metadata\": {},\n",
    "     \"output_type\": \"execute_result\"\n",
    "    }\n",
    "   ],\n",
    "   \"source\": [\n",
    "    \"set_int = t20 & odi\\n\",\n",
    "    \"set_int\"\n",
    "   ]\n",
    "  },\n",
    "  {\n",
    "   \"cell_type\": \"code\",\n",
    "   \"execution_count\": 54,\n",
    "   \"id\": \"b399f583\",\n",
    "   \"metadata\": {},\n",
    "   \"outputs\": [\n",
    "    {\n",
    "     \"data\": {\n",
    "      \"text/plain\": [\n",
    "       \"{'Bumrah', 'Chahal', 'Rahul'}\"\n",
    "      ]\n",
    "     },\n",
    "     \"execution_count\": 54,\n",
    "     \"metadata\": {},\n",
    "     \"output_type\": \"execute_result\"\n",
    "    }\n",
    "   ],\n",
    "   \"source\": [\n",
    "    \"set_diff = t20 - odi\\n\",\n",
    "    \"set_diff\"\n",
    "   ]\n",
    "  },\n",
    "  {\n",
    "   \"cell_type\": \"code\",\n",
    "   \"execution_count\": 55,\n",
    "   \"id\": \"82db24ae\",\n",
    "   \"metadata\": {},\n",
    "   \"outputs\": [\n",
    "    {\n",
    "     \"data\": {\n",
    "      \"text/plain\": [\n",
    "       \"{'Bumrah', 'Chahal', 'Iyer', 'Pant', 'Rahul', 'Shami'}\"\n",
    "      ]\n",
    "     },\n",
    "     \"execution_count\": 55,\n",
    "     \"metadata\": {},\n",
    "     \"output_type\": \"execute_result\"\n",
    "    }\n",
    "   ],\n",
    "   \"source\": [\n",
    "    \"set_symm_diff = t20 ^ odi\\n\",\n",
    "    \"set_symm_diff\"\n",
    "   ]\n",
    "  },\n",
    "  {\n",
    "   \"cell_type\": \"markdown\",\n",
    "   \"id\": \"619e1e81\",\n",
    "   \"metadata\": {},\n",
    "   \"source\": [\n",
    "    \"# Find the Largest of the 4 Strings using Conditional Statements(if-elif-else) using Python.\"\n",
    "   ]\n",
    "  },\n",
    "  {\n",
    "   \"cell_type\": \"code\",\n",
    "   \"execution_count\": 56,\n",
    "   \"id\": \"228dfca9\",\n",
    "   \"metadata\": {},\n",
    "   \"outputs\": [],\n",
    "   \"source\": [\n",
    "    \"# Question 6\"\n",
    "   ]\n",
    "  },\n",
    "  {\n",
    "   \"cell_type\": \"code\",\n",
    "   \"execution_count\": 57,\n",
    "   \"id\": \"23c8e498\",\n",
    "   \"metadata\": {},\n",
    "   \"outputs\": [],\n",
    "   \"source\": [\n",
    "    \"s1 = \\\"Long\\\"\\n\",\n",
    "    \"s2 = \\\"Large\\\"\\n\",\n",
    "    \"s3 = \\\"Larger\\\"\\n\",\n",
    "    \"s4 = \\\"Largest\\\"\"\n",
    "   ]\n",
    "  },\n",
    "  {\n",
    "   \"cell_type\": \"code\",\n",
    "   \"execution_count\": 58,\n",
    "   \"id\": \"fb0e542d\",\n",
    "   \"metadata\": {},\n",
    "   \"outputs\": [\n",
    "    {\n",
    "     \"name\": \"stdout\",\n",
    "     \"output_type\": \"stream\",\n",
    "     \"text\": [\n",
    "      \"Largest is largest\\n\"\n",
    "     ]\n",
    "    }\n",
    "   ],\n",
    "   \"source\": [\n",
    "    \"if len(s1) >= len(s2) and len(s1) >= len(s3) and len(s1) >= len(s3):\\n\",\n",
    "    \"    print(s1, \\\" is largest\\\")\\n\",\n",
    "    \"elif len(s2) >= len(s1) and len(s2) >= len(s3) and len(s2) >= len(s4):\\n\",\n",
    "    \"    print(s2, \\\" is largest\\\")\\n\",\n",
    "    \"elif len(s3) >= len(s1) and len(s3) >= len(s2) and len(s3) >= len(s4):\\n\",\n",
    "    \"    print(s3, \\\" is largest\\\")\\n\",\n",
    "    \"else:\\n\",\n",
    "    \"    print(s4, \\\"is largest\\\")\"\n",
    "   ]\n",
    "  },\n",
    "  {\n",
    "   \"cell_type\": \"markdown\",\n",
    "   \"id\": \"41f47279\",\n",
    "   \"metadata\": {},\n",
    "   \"source\": [\n",
    "    \"# Write a function to generate even numbers between 1 to 30. Create a list squaring these numbers and display the list as well. Create another list by filtering the squared list using ‘anonymous’ function to get those numbers which are even numbers( Hint: Use filter() method and ‘lambda’ keyword )\"\n",
    "   ]\n",
    "  },\n",
    "  {\n",
    "   \"cell_type\": \"code\",\n",
    "   \"execution_count\": 59,\n",
    "   \"id\": \"4ccae093\",\n",
    "   \"metadata\": {},\n",
    "   \"outputs\": [],\n",
    "   \"source\": [\n",
    "    \"# Question 7\"\n",
    "   ]\n",
    "  },\n",
    "  {\n",
    "   \"cell_type\": \"code\",\n",
    "   \"execution_count\": 68,\n",
    "   \"id\": \"00814a69\",\n",
    "   \"metadata\": {},\n",
    "   \"outputs\": [],\n",
    "   \"source\": [\n",
    "    \"def get_even_nums():\\n\",\n",
    "    \"    even_nums = [x for x in range(1, 31) if x % 2 == 0]\\n\",\n",
    "    \"    print(even_nums)\\n\",\n",
    "    \"    even_nums_sq = [x ** 2 for x in even_nums]\\n\",\n",
    "    \"    print(even_nums_sq)\\n\",\n",
    "    \"    # filter function with lambda\\n\",\n",
    "    \"    filtered_lst = list(filter(lambda x: x % 2 == 0, even_nums_sq))\\n\",\n",
    "    \"    print(filtered_lst)\"\n",
    "   ]\n",
    "  },\n",
    "  {\n",
    "   \"cell_type\": \"code\",\n",
    "   \"execution_count\": 70,\n",
    "   \"id\": \"c16070e4\",\n",
    "   \"metadata\": {},\n",
    "   \"outputs\": [\n",
    "    {\n",
    "     \"name\": \"stdout\",\n",
    "     \"output_type\": \"stream\",\n",
    "     \"text\": [\n",
    "      \"[2, 4, 6, 8, 10, 12, 14, 16, 18, 20, 22, 24, 26, 28, 30]\\n\",\n",
    "      \"[4, 16, 36, 64, 100, 144, 196, 256, 324, 400, 484, 576, 676, 784, 900]\\n\",\n",
    "      \"[4, 16, 36, 64, 100, 144, 196, 256, 324, 400, 484, 576, 676, 784, 900]\\n\"\n",
    "     ]\n",
    "    }\n",
    "   ],\n",
    "   \"source\": [\n",
    "    \"get_even_nums()\"\n",
    "   ]\n",
    "  },\n",
    "  {\n",
    "   \"cell_type\": \"code\",\n",
    "   \"execution_count\": null,\n",
    "   \"id\": \"d02a9f57\",\n",
    "   \"metadata\": {},\n",
    "   \"outputs\": [],\n",
    "   \"source\": []\n",
    "  }\n",
    " ],\n",
    " \"metadata\": {\n",
    "  \"kernelspec\": {\n",
    "   \"display_name\": \"Python 3 (ipykernel)\",\n",
    "   \"language\": \"python\",\n",
    "   \"name\": \"python3\"\n",
    "  },\n",
    "  \"language_info\": {\n",
    "   \"codemirror_mode\": {\n",
    "    \"name\": \"ipython\",\n",
    "    \"version\": 3\n",
    "   },\n",
    "   \"file_extension\": \".py\",\n",
    "   \"mimetype\": \"text/x-python\",\n",
    "   \"name\": \"python\",\n",
    "   \"nbconvert_exporter\": \"python\",\n",
    "   \"pygments_lexer\": \"ipython3\",\n",
    "   \"version\": \"3.9.7\"\n",
    "  }\n",
    " },\n",
    " \"nbformat\": 4,\n",
    " \"nbformat_minor\": 5\n",
    "}\n",
    "\n",
    "    print(s4, \"is largest\")"
   ]
  },
  {
   "cell_type": "markdown",
   "id": "65d78a15",
   "metadata": {},
   "source": [
    "# Write a function to generate even numbers between 1 to 30. Create a list squaring these numbers and display the list as well. Create another list by filtering the squared list using ‘anonymous’ function to get those numbers which are even numbers( Hint: Use filter() method and ‘lambda’ keyword )"
   ]
  },
  {
   "cell_type": "code",
   "execution_count": 59,
   "id": "a7a36b9a",
   "metadata": {},
   "outputs": [],
   "source": [
    "# Question 7"
   ]
  },
  {
   "cell_type": "code",
   "execution_count": 68,
   "id": "93cc1462",
   "metadata": {},
   "outputs": [],
   "source": [
    "def get_even_nums():\n",
    "    even_nums = [x for x in range(1, 31) if x % 2 == 0]\n",
    "    print(even_nums)\n",
    "    even_nums_sq = [x ** 2 for x in even_nums]\n",
    "    print(even_nums_sq)\n",
    "    # filter function with lambda\n",
    "    filtered_lst = list(filter(lambda x: x % 2 == 0, even_nums_sq))\n",
    "    print(filtered_lst)"
   ]
  },
  {
   "cell_type": "code",
   "execution_count": 70,
   "id": "db693569",
   "metadata": {},
   "outputs": [
    {
     "name": "stdout",
     "output_type": "stream",
     "text": [
      "[2, 4, 6, 8, 10, 12, 14, 16, 18, 20, 22, 24, 26, 28, 30]\n",
      "[4, 16, 36, 64, 100, 144, 196, 256, 324, 400, 484, 576, 676, 784, 900]\n",
      "[4, 16, 36, 64, 100, 144, 196, 256, 324, 400, 484, 576, 676, 784, 900]\n"
     ]
    }
   ],
   "source": [
    "get_even_nums()"
   ]
  },
  {
   "cell_type": "code",
   "execution_count": null,
   "id": "497f0678",
   "metadata": {},
   "outputs": [],
   "source": []
  }
 ],
 "metadata": {
  "kernelspec": {
   "display_name": "Python 3 (ipykernel)",
   "language": "python",
   "name": "python3"
  },
  "language_info": {
   "codemirror_mode": {
    "name": "ipython",
    "version": 3
   },
   "file_extension": ".py",
   "mimetype": "text/x-python",
   "name": "python",
   "nbconvert_exporter": "python",
   "pygments_lexer": "ipython3",
   "version": "3.9.7"
  }
 },
 "nbformat": 4,
 "nbformat_minor": 5
}
