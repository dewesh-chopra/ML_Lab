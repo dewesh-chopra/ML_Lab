{
 "cells": [
  {
   "cell_type": "markdown",
   "id": "7e133d53",
   "metadata": {},
   "source": [
    "# Dewesh Chopra\n",
    "# MCA/10032/22\n",
    "# CA511 - BOML Lab"
   ]
  },
  {
   "cell_type": "markdown",
   "id": "f50dddd5",
   "metadata": {},
   "source": [
    "# Question 1"
   ]
  },
  {
   "cell_type": "code",
   "execution_count": 1,
   "id": "0ab935f8",
   "metadata": {},
   "outputs": [],
   "source": [
    "import numpy as np\n",
    "\n",
    "x = np.array([2.5, 0.5, 2.2, 1.9, 3.1, 2.3, 2, 1, 1.5, 1.1])\n",
    "y = np.array([2.4, 0.7, 2.9, 2.2, 3.0, 2.7, 1.6, 1.1, 1.6, 0.9])"
   ]
  },
  {
   "cell_type": "code",
   "execution_count": 2,
   "id": "b248272f",
   "metadata": {},
   "outputs": [],
   "source": [
    "# Standardize the values\n",
    "x_mean = np.mean(x)\n",
    "y_mean = np.mean(y)\n",
    "x_std = np.std(x)\n",
    "y_std = np.std(y)\n",
    "\n",
    "x_standardized = (x - x_mean) / x_std\n",
    "y_standardized = (y - y_mean) / y_std"
   ]
  },
  {
   "cell_type": "code",
   "execution_count": 3,
   "id": "5070994d",
   "metadata": {},
   "outputs": [
    {
     "data": {
      "text/plain": [
       "array([ 0.92627881, -1.7585873 ,  0.52354889,  0.12081898,  1.73173864,\n",
       "        0.6577922 ,  0.25506228, -1.08737078, -0.41615425, -0.95312747])"
      ]
     },
     "execution_count": 3,
     "metadata": {},
     "output_type": "execute_result"
    }
   ],
   "source": [
    "x_standardized"
   ]
  },
  {
   "cell_type": "code",
   "execution_count": 4,
   "id": "affbcfef",
   "metadata": {},
   "outputs": [
    {
     "data": {
      "text/plain": [
       "array([ 0.61016865, -1.506743  ,  1.23278973,  0.36112022,  1.35731394,\n",
       "        0.9837413 , -0.38602507, -1.00864614, -0.38602507, -1.25769457])"
      ]
     },
     "execution_count": 4,
     "metadata": {},
     "output_type": "execute_result"
    }
   ],
   "source": [
    "y_standardized"
   ]
  },
  {
   "cell_type": "code",
   "execution_count": 5,
   "id": "5088c5b5",
   "metadata": {},
   "outputs": [],
   "source": [
    "# Covariance matrix, eigen values and eigen vectors\n",
    "data_matrix = np.vstack((x_standardized, y_standardized))\n",
    "covariance_matrix = np.cov(data_matrix)\n",
    "\n",
    "eigenvalues, eigenvectors = np.linalg.eig(covariance_matrix)"
   ]
  },
  {
   "cell_type": "code",
   "execution_count": 6,
   "id": "d72cd5b3",
   "metadata": {},
   "outputs": [
    {
     "data": {
      "text/plain": [
       "array([[1.11111111, 1.0288103 ],\n",
       "       [1.0288103 , 1.11111111]])"
      ]
     },
     "execution_count": 6,
     "metadata": {},
     "output_type": "execute_result"
    }
   ],
   "source": [
    "covariance_matrix"
   ]
  },
  {
   "cell_type": "code",
   "execution_count": 7,
   "id": "a00a7d4e",
   "metadata": {},
   "outputs": [
    {
     "data": {
      "text/plain": [
       "array([2.13992141, 0.08230081])"
      ]
     },
     "execution_count": 7,
     "metadata": {},
     "output_type": "execute_result"
    }
   ],
   "source": [
    "eigenvalues"
   ]
  },
  {
   "cell_type": "code",
   "execution_count": 8,
   "id": "60c16c05",
   "metadata": {},
   "outputs": [
    {
     "data": {
      "text/plain": [
       "array([[ 0.70710678, -0.70710678],\n",
       "       [ 0.70710678,  0.70710678]])"
      ]
     },
     "execution_count": 8,
     "metadata": {},
     "output_type": "execute_result"
    }
   ],
   "source": [
    "eigenvectors"
   ]
  },
  {
   "cell_type": "code",
   "execution_count": 9,
   "id": "c45e3f08",
   "metadata": {},
   "outputs": [],
   "source": [
    "# Sort in descending order\n",
    "sorted_indices = np.argsort(eigenvalues)[::-1]\n",
    "sorted_eigenvectors = eigenvectors[:, sorted_indices]"
   ]
  },
  {
   "cell_type": "code",
   "execution_count": 10,
   "id": "496e9744",
   "metadata": {},
   "outputs": [],
   "source": [
    "# Choose the number of principal components\n",
    "num_components = 1\n",
    "\n",
    "# Choose the top k eigenvectors\n",
    "selected_eigenvectors = sorted_eigenvectors[:, :num_components]"
   ]
  },
  {
   "cell_type": "code",
   "execution_count": 11,
   "id": "51e22d58",
   "metadata": {},
   "outputs": [
    {
     "name": "stdout",
     "output_type": "stream",
     "text": [
      "[[ 1.08643242 -2.3089372   1.24191895  0.34078247  2.18429003  1.16073946\n",
      "  -0.09260467 -1.48210777 -0.56722643 -1.56328726]]\n"
     ]
    }
   ],
   "source": [
    "# Projecting the data\n",
    "transformed_data = np.dot(selected_eigenvectors.T, data_matrix)\n",
    "\n",
    "print(transformed_data)"
   ]
  },
  {
   "cell_type": "code",
   "execution_count": 12,
   "id": "4f1d0eb2",
   "metadata": {},
   "outputs": [],
   "source": [
    "# On a kaggle dataset"
   ]
  },
  {
   "cell_type": "markdown",
   "id": "270ae7d9",
   "metadata": {},
   "source": [
    "# Question 2"
   ]
  },
  {
   "cell_type": "code",
   "execution_count": 13,
   "id": "80dae36f",
   "metadata": {},
   "outputs": [],
   "source": [
    "x = np.array([3, 8, 9, 13, 3, 6, 11, 21, 1, 16])\n",
    "y = np.array([30, 57, 64, 72, 36, 43, 59, 90, 20, 83])"
   ]
  },
  {
   "cell_type": "code",
   "execution_count": 14,
   "id": "e56b95fd",
   "metadata": {},
   "outputs": [],
   "source": [
    "# Calculate values\n",
    "x_mean = np.mean(x)\n",
    "y_mean = np.mean(y)\n",
    "\n",
    "num = np.sum((x - x_mean) * (y - y_mean))\n",
    "deno = np.sum((x - x_mean) ** 2)\n",
    "\n",
    "slope = num / deno\n",
    "intercept = y_mean - slope * x_mean"
   ]
  },
  {
   "cell_type": "code",
   "execution_count": 15,
   "id": "c8b505f0",
   "metadata": {},
   "outputs": [],
   "source": [
    "# Make predictions\n",
    "x_test = np.array([10])\n",
    "y_pred = slope * x_test + intercept"
   ]
  },
  {
   "cell_type": "code",
   "execution_count": 16,
   "id": "562e1c98",
   "metadata": {},
   "outputs": [
    {
     "name": "stdout",
     "output_type": "stream",
     "text": [
      "[58.58372806]\n"
     ]
    }
   ],
   "source": [
    "print(y_pred)"
   ]
  },
  {
   "cell_type": "code",
   "execution_count": 17,
   "id": "887b3a74",
   "metadata": {},
   "outputs": [],
   "source": [
    "import matplotlib.pyplot as plt"
   ]
  },
  {
   "cell_type": "code",
   "execution_count": 18,
   "id": "454492c5",
   "metadata": {},
   "outputs": [
    {
     "data": {
      "image/png": "[encoded data removed]",
      "text/plain": [
       "<Figure size 640x480 with 1 Axes>"
      ]
     },
     "metadata": {},
     "output_type": "display_data"
    }
   ],
   "source": [
    "line_x = np.array([x for x in range(1, 21)])\n",
    "line_y = np.array([slope * x + intercept for x in line_x])\n",
    "\n",
    "plt.scatter(x, y, color='blue', label='original')\n",
    "plt.plot(line_x, line_y, color='red', label='through regression')\n",
    "plt.xlabel('X')\n",
    "plt.ylabel('Y')\n",
    "plt.show()"
   ]
  },
  {
   "cell_type": "code",
   "execution_count": 19,
   "id": "0e15b9fe",
   "metadata": {},
   "outputs": [],
   "source": [
    "# Question 3"
   ]
  },
  {
   "cell_type": "code",
   "execution_count": 23,
   "id": "543973a1",
   "metadata": {},
   "outputs": [],
   "source": [
    "x = np.array([1, 2, 3, 4, 5])\n",
    "y = np.array([1, 3, 3, 2, 5])"
   ]
  },
  {
   "cell_type": "code",
   "execution_count": 24,
   "id": "5ca9ebca",
   "metadata": {},
   "outputs": [],
   "source": [
    "# Initialize coefficients (alpha and delta)\n",
    "slope = 0\n",
    "intercept = 0"
   ]
  },
  {
   "cell_type": "code",
   "execution_count": 27,
   "id": "f64bed4b",
   "metadata": {},
   "outputs": [],
   "source": [
    "# Hyperparameters\n",
    "learning_rate = 0.001\n",
    "epochs = 100\n",
    "\n",
    "# Stochastic Gradient Descent\n",
    "for epoch in range(epochs):\n",
    "    for i in range(len(x)):\n",
    "        # Compute predictions\n",
    "        y_pred = slope * x[i] + intercept\n",
    "\n",
    "        # Compute gradients\n",
    "        slope_gradient = -2 * x[i] * (y[i] - y_pred)\n",
    "        intercept_gradient = -2 * (y[i] - y_pred)\n",
    "\n",
    "        # Update coefficients\n",
    "        slope -= learning_rate * slope_gradient\n",
    "        intercept -= learning_rate * intercept_gradient"
   ]
  },
  {
   "cell_type": "code",
   "execution_count": 28,
   "id": "6e57cb4e",
   "metadata": {},
   "outputs": [],
   "source": [
    "# Make predictions on the test data\n",
    "x_test = np.array([7, 12, 18])\n",
    "y_pred = slope * x_test + intercept"
   ]
  },
  {
   "cell_type": "code",
   "execution_count": 29,
   "id": "f7e63162",
   "metadata": {},
   "outputs": [
    {
     "name": "stdout",
     "output_type": "stream",
     "text": [
      "Slope:  0.7226241535599089\n",
      "Intercept:  0.6252091991088057\n",
      "Predictions:  [ 5.68357827  9.29669904 13.63244396]\n"
     ]
    }
   ],
   "source": [
    "print(\"Slope: \", slope)\n",
    "print(\"Intercept: \", intercept)\n",
    "print(\"Predictions: \", y_pred)"
   ]
  },
  {
   "cell_type": "code",
   "execution_count": null,
   "id": "1705db2c",
   "metadata": {},
   "outputs": [],
   "source": []
  }
 ],
 "metadata": {
  "kernelspec": {
   "display_name": "Python 3 (ipykernel)",
   "language": "python",
   "name": "python3"
  },
  "language_info": {
   "codemirror_mode": {
    "name": "ipython",
    "version": 3
   },
   "file_extension": ".py",
   "mimetype": "text/x-python",
   "name": "python",
   "nbconvert_exporter": "python",
   "pygments_lexer": "ipython3",
   "version": "3.11.2"
  }
 },
 "nbformat": 4,
 "nbformat_minor": 5
}
